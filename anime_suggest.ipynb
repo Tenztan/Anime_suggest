{
 "cells": [
  {
   "cell_type": "markdown",
   "id": "67859c2d",
   "metadata": {},
   "source": [
    "# ANIME RECOMMENDATION SYSTEM"
   ]
  },
  {
   "cell_type": "code",
   "execution_count": 1,
   "id": "9d0522aa",
   "metadata": {},
   "outputs": [],
   "source": [
    "import numpy as np\n",
    "import pandas as pd\n",
    "import matplotlib.pyplot as plt\n",
    "import seaborn as sns\n",
    "import re\n",
    "import sklearn\n",
    "from sklearn.preprocessing import MaxAbsScaler\n",
    "from sklearn.neighbors import NearestNeighbors\n",
    "\n",
    "\n",
    "from sklearn.ensemble import RandomForestRegressor\n",
    "from sklearn.metrics import mean_absolute_error\n",
    "\n",
    "from sklearn.metrics import accuracy_score\n",
    "\n",
    "\n",
    "from sklearn.model_selection import train_test_split\n",
    "from sklearn.linear_model import LinearRegression\n",
    "from sklearn.metrics import mean_squared_error\n",
    "sns.set_style('whitegrid')\n",
    "%matplotlib inline"
   ]
  },
  {
   "cell_type": "code",
   "execution_count": 2,
   "id": "61988cf7",
   "metadata": {},
   "outputs": [],
   "source": [
    "anime = pd.read_csv(r'C:\\Users\\AMD RYZEN\\OneDrive\\Desktop\\python\\anime.csv')\n",
    "df = pd.read_csv(r'C:\\Users\\AMD RYZEN\\OneDrive\\Desktop\\python\\rating.csv')"
   ]
  },
  {
   "cell_type": "code",
   "execution_count": 3,
   "id": "88147d51",
   "metadata": {},
   "outputs": [
    {
     "data": {
      "text/html": [
       "<div>\n",
       "<style scoped>\n",
       "    .dataframe tbody tr th:only-of-type {\n",
       "        vertical-align: middle;\n",
       "    }\n",
       "\n",
       "    .dataframe tbody tr th {\n",
       "        vertical-align: top;\n",
       "    }\n",
       "\n",
       "    .dataframe thead th {\n",
       "        text-align: right;\n",
       "    }\n",
       "</style>\n",
       "<table border=\"1\" class=\"dataframe\">\n",
       "  <thead>\n",
       "    <tr style=\"text-align: right;\">\n",
       "      <th></th>\n",
       "      <th>user_id</th>\n",
       "      <th>anime_id</th>\n",
       "      <th>rating</th>\n",
       "    </tr>\n",
       "  </thead>\n",
       "  <tbody>\n",
       "    <tr>\n",
       "      <th>0</th>\n",
       "      <td>1</td>\n",
       "      <td>20</td>\n",
       "      <td>-1</td>\n",
       "    </tr>\n",
       "    <tr>\n",
       "      <th>1</th>\n",
       "      <td>1</td>\n",
       "      <td>24</td>\n",
       "      <td>-1</td>\n",
       "    </tr>\n",
       "    <tr>\n",
       "      <th>2</th>\n",
       "      <td>1</td>\n",
       "      <td>79</td>\n",
       "      <td>-1</td>\n",
       "    </tr>\n",
       "    <tr>\n",
       "      <th>3</th>\n",
       "      <td>1</td>\n",
       "      <td>226</td>\n",
       "      <td>-1</td>\n",
       "    </tr>\n",
       "    <tr>\n",
       "      <th>4</th>\n",
       "      <td>1</td>\n",
       "      <td>241</td>\n",
       "      <td>-1</td>\n",
       "    </tr>\n",
       "    <tr>\n",
       "      <th>...</th>\n",
       "      <td>...</td>\n",
       "      <td>...</td>\n",
       "      <td>...</td>\n",
       "    </tr>\n",
       "    <tr>\n",
       "      <th>7813732</th>\n",
       "      <td>73515</td>\n",
       "      <td>16512</td>\n",
       "      <td>7</td>\n",
       "    </tr>\n",
       "    <tr>\n",
       "      <th>7813733</th>\n",
       "      <td>73515</td>\n",
       "      <td>17187</td>\n",
       "      <td>9</td>\n",
       "    </tr>\n",
       "    <tr>\n",
       "      <th>7813734</th>\n",
       "      <td>73515</td>\n",
       "      <td>22145</td>\n",
       "      <td>10</td>\n",
       "    </tr>\n",
       "    <tr>\n",
       "      <th>7813735</th>\n",
       "      <td>73516</td>\n",
       "      <td>790</td>\n",
       "      <td>9</td>\n",
       "    </tr>\n",
       "    <tr>\n",
       "      <th>7813736</th>\n",
       "      <td>73516</td>\n",
       "      <td>8074</td>\n",
       "      <td>9</td>\n",
       "    </tr>\n",
       "  </tbody>\n",
       "</table>\n",
       "<p>7813737 rows × 3 columns</p>\n",
       "</div>"
      ],
      "text/plain": [
       "         user_id  anime_id  rating\n",
       "0              1        20      -1\n",
       "1              1        24      -1\n",
       "2              1        79      -1\n",
       "3              1       226      -1\n",
       "4              1       241      -1\n",
       "...          ...       ...     ...\n",
       "7813732    73515     16512       7\n",
       "7813733    73515     17187       9\n",
       "7813734    73515     22145      10\n",
       "7813735    73516       790       9\n",
       "7813736    73516      8074       9\n",
       "\n",
       "[7813737 rows x 3 columns]"
      ]
     },
     "execution_count": 3,
     "metadata": {},
     "output_type": "execute_result"
    }
   ],
   "source": [
    "df"
   ]
  },
  {
   "cell_type": "code",
   "execution_count": 4,
   "id": "18f89899",
   "metadata": {},
   "outputs": [
    {
     "data": {
      "text/html": [
       "<div>\n",
       "<style scoped>\n",
       "    .dataframe tbody tr th:only-of-type {\n",
       "        vertical-align: middle;\n",
       "    }\n",
       "\n",
       "    .dataframe tbody tr th {\n",
       "        vertical-align: top;\n",
       "    }\n",
       "\n",
       "    .dataframe thead th {\n",
       "        text-align: right;\n",
       "    }\n",
       "</style>\n",
       "<table border=\"1\" class=\"dataframe\">\n",
       "  <thead>\n",
       "    <tr style=\"text-align: right;\">\n",
       "      <th></th>\n",
       "      <th>anime_id</th>\n",
       "      <th>name</th>\n",
       "      <th>genre</th>\n",
       "      <th>type</th>\n",
       "      <th>episodes</th>\n",
       "      <th>rating</th>\n",
       "      <th>members</th>\n",
       "    </tr>\n",
       "  </thead>\n",
       "  <tbody>\n",
       "    <tr>\n",
       "      <th>0</th>\n",
       "      <td>32281</td>\n",
       "      <td>Kimi no Na wa.</td>\n",
       "      <td>Drama, Romance, School, Supernatural</td>\n",
       "      <td>Movie</td>\n",
       "      <td>1</td>\n",
       "      <td>9.37</td>\n",
       "      <td>200630</td>\n",
       "    </tr>\n",
       "    <tr>\n",
       "      <th>1</th>\n",
       "      <td>5114</td>\n",
       "      <td>Fullmetal Alchemist: Brotherhood</td>\n",
       "      <td>Action, Adventure, Drama, Fantasy, Magic, Mili...</td>\n",
       "      <td>TV</td>\n",
       "      <td>64</td>\n",
       "      <td>9.26</td>\n",
       "      <td>793665</td>\n",
       "    </tr>\n",
       "    <tr>\n",
       "      <th>2</th>\n",
       "      <td>28977</td>\n",
       "      <td>Gintama°</td>\n",
       "      <td>Action, Comedy, Historical, Parody, Samurai, S...</td>\n",
       "      <td>TV</td>\n",
       "      <td>51</td>\n",
       "      <td>9.25</td>\n",
       "      <td>114262</td>\n",
       "    </tr>\n",
       "    <tr>\n",
       "      <th>3</th>\n",
       "      <td>9253</td>\n",
       "      <td>Steins;Gate</td>\n",
       "      <td>Sci-Fi, Thriller</td>\n",
       "      <td>TV</td>\n",
       "      <td>24</td>\n",
       "      <td>9.17</td>\n",
       "      <td>673572</td>\n",
       "    </tr>\n",
       "    <tr>\n",
       "      <th>4</th>\n",
       "      <td>9969</td>\n",
       "      <td>Gintama&amp;#039;</td>\n",
       "      <td>Action, Comedy, Historical, Parody, Samurai, S...</td>\n",
       "      <td>TV</td>\n",
       "      <td>51</td>\n",
       "      <td>9.16</td>\n",
       "      <td>151266</td>\n",
       "    </tr>\n",
       "    <tr>\n",
       "      <th>5</th>\n",
       "      <td>32935</td>\n",
       "      <td>Haikyuu!!: Karasuno Koukou VS Shiratorizawa Ga...</td>\n",
       "      <td>Comedy, Drama, School, Shounen, Sports</td>\n",
       "      <td>TV</td>\n",
       "      <td>10</td>\n",
       "      <td>9.15</td>\n",
       "      <td>93351</td>\n",
       "    </tr>\n",
       "    <tr>\n",
       "      <th>6</th>\n",
       "      <td>11061</td>\n",
       "      <td>Hunter x Hunter (2011)</td>\n",
       "      <td>Action, Adventure, Shounen, Super Power</td>\n",
       "      <td>TV</td>\n",
       "      <td>148</td>\n",
       "      <td>9.13</td>\n",
       "      <td>425855</td>\n",
       "    </tr>\n",
       "    <tr>\n",
       "      <th>7</th>\n",
       "      <td>820</td>\n",
       "      <td>Ginga Eiyuu Densetsu</td>\n",
       "      <td>Drama, Military, Sci-Fi, Space</td>\n",
       "      <td>OVA</td>\n",
       "      <td>110</td>\n",
       "      <td>9.11</td>\n",
       "      <td>80679</td>\n",
       "    </tr>\n",
       "    <tr>\n",
       "      <th>8</th>\n",
       "      <td>15335</td>\n",
       "      <td>Gintama Movie: Kanketsu-hen - Yorozuya yo Eien...</td>\n",
       "      <td>Action, Comedy, Historical, Parody, Samurai, S...</td>\n",
       "      <td>Movie</td>\n",
       "      <td>1</td>\n",
       "      <td>9.10</td>\n",
       "      <td>72534</td>\n",
       "    </tr>\n",
       "    <tr>\n",
       "      <th>9</th>\n",
       "      <td>15417</td>\n",
       "      <td>Gintama&amp;#039;: Enchousen</td>\n",
       "      <td>Action, Comedy, Historical, Parody, Samurai, S...</td>\n",
       "      <td>TV</td>\n",
       "      <td>13</td>\n",
       "      <td>9.11</td>\n",
       "      <td>81109</td>\n",
       "    </tr>\n",
       "  </tbody>\n",
       "</table>\n",
       "</div>"
      ],
      "text/plain": [
       "   anime_id                                               name  \\\n",
       "0     32281                                     Kimi no Na wa.   \n",
       "1      5114                   Fullmetal Alchemist: Brotherhood   \n",
       "2     28977                                           Gintama°   \n",
       "3      9253                                        Steins;Gate   \n",
       "4      9969                                      Gintama&#039;   \n",
       "5     32935  Haikyuu!!: Karasuno Koukou VS Shiratorizawa Ga...   \n",
       "6     11061                             Hunter x Hunter (2011)   \n",
       "7       820                               Ginga Eiyuu Densetsu   \n",
       "8     15335  Gintama Movie: Kanketsu-hen - Yorozuya yo Eien...   \n",
       "9     15417                           Gintama&#039;: Enchousen   \n",
       "\n",
       "                                               genre   type episodes  rating  \\\n",
       "0               Drama, Romance, School, Supernatural  Movie        1    9.37   \n",
       "1  Action, Adventure, Drama, Fantasy, Magic, Mili...     TV       64    9.26   \n",
       "2  Action, Comedy, Historical, Parody, Samurai, S...     TV       51    9.25   \n",
       "3                                   Sci-Fi, Thriller     TV       24    9.17   \n",
       "4  Action, Comedy, Historical, Parody, Samurai, S...     TV       51    9.16   \n",
       "5             Comedy, Drama, School, Shounen, Sports     TV       10    9.15   \n",
       "6            Action, Adventure, Shounen, Super Power     TV      148    9.13   \n",
       "7                     Drama, Military, Sci-Fi, Space    OVA      110    9.11   \n",
       "8  Action, Comedy, Historical, Parody, Samurai, S...  Movie        1    9.10   \n",
       "9  Action, Comedy, Historical, Parody, Samurai, S...     TV       13    9.11   \n",
       "\n",
       "   members  \n",
       "0   200630  \n",
       "1   793665  \n",
       "2   114262  \n",
       "3   673572  \n",
       "4   151266  \n",
       "5    93351  \n",
       "6   425855  \n",
       "7    80679  \n",
       "8    72534  \n",
       "9    81109  "
      ]
     },
     "execution_count": 4,
     "metadata": {},
     "output_type": "execute_result"
    }
   ],
   "source": [
    "anime.head(10)"
   ]
  },
  {
   "cell_type": "code",
   "execution_count": 5,
   "id": "e0925679",
   "metadata": {},
   "outputs": [
    {
     "data": {
      "image/png": "[encoded data removed]",
      "text/plain": [
       "<Figure size 1000x700 with 1 Axes>"
      ]
     },
     "metadata": {},
     "output_type": "display_data"
    }
   ],
   "source": [
    "ona = anime.loc[anime['type'] == 'ONA'].count()[0]\n",
    "tv = anime.loc[anime['type'] == 'TV'].count()[0]\n",
    "movie = anime.loc[anime['type'] == 'Movie'].count()[0]\n",
    "music = anime.loc[anime['type'] == 'Music'].count()[0]\n",
    "special = anime.loc[anime['type'] == 'Special'].count()[0]\n",
    "ova = anime.loc[anime['type'] == 'OVA'].count()[0]\n",
    "\n",
    "labels = ['ONA', 'TV', 'Movie', 'Music', 'Special', 'OVA']\n",
    "colors = ['#81F4E1', '#56CBF9', '#F5D491', '#BEB7A4', '#B4E1FF', '#F06C9B']\n",
    "\n",
    "plt.figure(figsize = (10,7))\n",
    "plt.title('Anime Categories Distribution')\n",
    "plt.pie([ona, tv, movie, music, special, ova],labels = labels,colors = colors,autopct = '%.2f %%')      \n",
    "plt.show()"
   ]
  },
  {
   "cell_type": "code",
   "execution_count": 6,
   "id": "600ab1d9",
   "metadata": {},
   "outputs": [
    {
     "data": {
      "text/html": [
       "<div>\n",
       "<style scoped>\n",
       "    .dataframe tbody tr th:only-of-type {\n",
       "        vertical-align: middle;\n",
       "    }\n",
       "\n",
       "    .dataframe tbody tr th {\n",
       "        vertical-align: top;\n",
       "    }\n",
       "\n",
       "    .dataframe thead th {\n",
       "        text-align: right;\n",
       "    }\n",
       "</style>\n",
       "<table border=\"1\" class=\"dataframe\">\n",
       "  <thead>\n",
       "    <tr style=\"text-align: right;\">\n",
       "      <th></th>\n",
       "      <th>anime_id</th>\n",
       "      <th>name</th>\n",
       "      <th>genre</th>\n",
       "      <th>type</th>\n",
       "      <th>episodes</th>\n",
       "      <th>rating</th>\n",
       "      <th>members</th>\n",
       "    </tr>\n",
       "  </thead>\n",
       "  <tbody>\n",
       "    <tr>\n",
       "      <th>40</th>\n",
       "      <td>1535</td>\n",
       "      <td>Death Note</td>\n",
       "      <td>Mystery, Police, Psychological, Supernatural, ...</td>\n",
       "      <td>TV</td>\n",
       "      <td>37</td>\n",
       "      <td>8.71</td>\n",
       "      <td>1013917</td>\n",
       "    </tr>\n",
       "    <tr>\n",
       "      <th>86</th>\n",
       "      <td>16498</td>\n",
       "      <td>Shingeki no Kyojin</td>\n",
       "      <td>Action, Drama, Fantasy, Shounen, Super Power</td>\n",
       "      <td>TV</td>\n",
       "      <td>25</td>\n",
       "      <td>8.54</td>\n",
       "      <td>896229</td>\n",
       "    </tr>\n",
       "    <tr>\n",
       "      <th>804</th>\n",
       "      <td>11757</td>\n",
       "      <td>Sword Art Online</td>\n",
       "      <td>Action, Adventure, Fantasy, Game, Romance</td>\n",
       "      <td>TV</td>\n",
       "      <td>25</td>\n",
       "      <td>7.83</td>\n",
       "      <td>893100</td>\n",
       "    </tr>\n",
       "    <tr>\n",
       "      <th>1</th>\n",
       "      <td>5114</td>\n",
       "      <td>Fullmetal Alchemist: Brotherhood</td>\n",
       "      <td>Action, Adventure, Drama, Fantasy, Magic, Mili...</td>\n",
       "      <td>TV</td>\n",
       "      <td>64</td>\n",
       "      <td>9.26</td>\n",
       "      <td>793665</td>\n",
       "    </tr>\n",
       "    <tr>\n",
       "      <th>159</th>\n",
       "      <td>6547</td>\n",
       "      <td>Angel Beats!</td>\n",
       "      <td>Action, Comedy, Drama, School, Supernatural</td>\n",
       "      <td>TV</td>\n",
       "      <td>13</td>\n",
       "      <td>8.39</td>\n",
       "      <td>717796</td>\n",
       "    </tr>\n",
       "    <tr>\n",
       "      <th>19</th>\n",
       "      <td>1575</td>\n",
       "      <td>Code Geass: Hangyaku no Lelouch</td>\n",
       "      <td>Action, Mecha, Military, School, Sci-Fi, Super...</td>\n",
       "      <td>TV</td>\n",
       "      <td>25</td>\n",
       "      <td>8.83</td>\n",
       "      <td>715151</td>\n",
       "    </tr>\n",
       "    <tr>\n",
       "      <th>841</th>\n",
       "      <td>20</td>\n",
       "      <td>Naruto</td>\n",
       "      <td>Action, Comedy, Martial Arts, Shounen, Super P...</td>\n",
       "      <td>TV</td>\n",
       "      <td>220</td>\n",
       "      <td>7.81</td>\n",
       "      <td>683297</td>\n",
       "    </tr>\n",
       "    <tr>\n",
       "      <th>3</th>\n",
       "      <td>9253</td>\n",
       "      <td>Steins;Gate</td>\n",
       "      <td>Sci-Fi, Thriller</td>\n",
       "      <td>TV</td>\n",
       "      <td>24</td>\n",
       "      <td>9.17</td>\n",
       "      <td>673572</td>\n",
       "    </tr>\n",
       "    <tr>\n",
       "      <th>445</th>\n",
       "      <td>10620</td>\n",
       "      <td>Mirai Nikki (TV)</td>\n",
       "      <td>Action, Mystery, Psychological, Shounen, Super...</td>\n",
       "      <td>TV</td>\n",
       "      <td>26</td>\n",
       "      <td>8.07</td>\n",
       "      <td>657190</td>\n",
       "    </tr>\n",
       "    <tr>\n",
       "      <th>131</th>\n",
       "      <td>4224</td>\n",
       "      <td>Toradora!</td>\n",
       "      <td>Comedy, Romance, School, Slice of Life</td>\n",
       "      <td>TV</td>\n",
       "      <td>25</td>\n",
       "      <td>8.45</td>\n",
       "      <td>633817</td>\n",
       "    </tr>\n",
       "  </tbody>\n",
       "</table>\n",
       "</div>"
      ],
      "text/plain": [
       "     anime_id                              name  \\\n",
       "40       1535                        Death Note   \n",
       "86      16498                Shingeki no Kyojin   \n",
       "804     11757                  Sword Art Online   \n",
       "1        5114  Fullmetal Alchemist: Brotherhood   \n",
       "159      6547                      Angel Beats!   \n",
       "19       1575   Code Geass: Hangyaku no Lelouch   \n",
       "841        20                            Naruto   \n",
       "3        9253                       Steins;Gate   \n",
       "445     10620                  Mirai Nikki (TV)   \n",
       "131      4224                         Toradora!   \n",
       "\n",
       "                                                 genre type episodes  rating  \\\n",
       "40   Mystery, Police, Psychological, Supernatural, ...   TV       37    8.71   \n",
       "86        Action, Drama, Fantasy, Shounen, Super Power   TV       25    8.54   \n",
       "804          Action, Adventure, Fantasy, Game, Romance   TV       25    7.83   \n",
       "1    Action, Adventure, Drama, Fantasy, Magic, Mili...   TV       64    9.26   \n",
       "159        Action, Comedy, Drama, School, Supernatural   TV       13    8.39   \n",
       "19   Action, Mecha, Military, School, Sci-Fi, Super...   TV       25    8.83   \n",
       "841  Action, Comedy, Martial Arts, Shounen, Super P...   TV      220    7.81   \n",
       "3                                     Sci-Fi, Thriller   TV       24    9.17   \n",
       "445  Action, Mystery, Psychological, Shounen, Super...   TV       26    8.07   \n",
       "131             Comedy, Romance, School, Slice of Life   TV       25    8.45   \n",
       "\n",
       "     members  \n",
       "40   1013917  \n",
       "86    896229  \n",
       "804   893100  \n",
       "1     793665  \n",
       "159   717796  \n",
       "19    715151  \n",
       "841   683297  \n",
       "3     673572  \n",
       "445   657190  \n",
       "131   633817  "
      ]
     },
     "execution_count": 6,
     "metadata": {},
     "output_type": "execute_result"
    }
   ],
   "source": [
    "anime.sort_values(by='members', ascending=False).head(10)"
   ]
  },
  {
   "cell_type": "code",
   "execution_count": 7,
   "id": "bc2a312d",
   "metadata": {},
   "outputs": [
    {
     "data": {
      "text/html": [
       "<div>\n",
       "<style scoped>\n",
       "    .dataframe tbody tr th:only-of-type {\n",
       "        vertical-align: middle;\n",
       "    }\n",
       "\n",
       "    .dataframe tbody tr th {\n",
       "        vertical-align: top;\n",
       "    }\n",
       "\n",
       "    .dataframe thead th {\n",
       "        text-align: right;\n",
       "    }\n",
       "</style>\n",
       "<table border=\"1\" class=\"dataframe\">\n",
       "  <thead>\n",
       "    <tr style=\"text-align: right;\">\n",
       "      <th></th>\n",
       "      <th>anime_id</th>\n",
       "      <th>name</th>\n",
       "      <th>genre</th>\n",
       "      <th>type</th>\n",
       "      <th>episodes</th>\n",
       "      <th>rating</th>\n",
       "      <th>members</th>\n",
       "    </tr>\n",
       "  </thead>\n",
       "  <tbody>\n",
       "    <tr>\n",
       "      <th>10464</th>\n",
       "      <td>33662</td>\n",
       "      <td>Taka no Tsume 8: Yoshida-kun no X-Files</td>\n",
       "      <td>Comedy, Parody</td>\n",
       "      <td>Movie</td>\n",
       "      <td>1</td>\n",
       "      <td>10.00</td>\n",
       "      <td>13</td>\n",
       "    </tr>\n",
       "    <tr>\n",
       "      <th>10400</th>\n",
       "      <td>30120</td>\n",
       "      <td>Spoon-hime no Swing Kitchen</td>\n",
       "      <td>Adventure, Kids</td>\n",
       "      <td>TV</td>\n",
       "      <td>Unknown</td>\n",
       "      <td>9.60</td>\n",
       "      <td>47</td>\n",
       "    </tr>\n",
       "    <tr>\n",
       "      <th>9595</th>\n",
       "      <td>23005</td>\n",
       "      <td>Mogura no Motoro</td>\n",
       "      <td>Slice of Life</td>\n",
       "      <td>Movie</td>\n",
       "      <td>1</td>\n",
       "      <td>9.50</td>\n",
       "      <td>62</td>\n",
       "    </tr>\n",
       "    <tr>\n",
       "      <th>0</th>\n",
       "      <td>32281</td>\n",
       "      <td>Kimi no Na wa.</td>\n",
       "      <td>Drama, Romance, School, Supernatural</td>\n",
       "      <td>Movie</td>\n",
       "      <td>1</td>\n",
       "      <td>9.37</td>\n",
       "      <td>200630</td>\n",
       "    </tr>\n",
       "    <tr>\n",
       "      <th>9078</th>\n",
       "      <td>33607</td>\n",
       "      <td>Kahei no Umi</td>\n",
       "      <td>Historical</td>\n",
       "      <td>Movie</td>\n",
       "      <td>1</td>\n",
       "      <td>9.33</td>\n",
       "      <td>44</td>\n",
       "    </tr>\n",
       "    <tr>\n",
       "      <th>1</th>\n",
       "      <td>5114</td>\n",
       "      <td>Fullmetal Alchemist: Brotherhood</td>\n",
       "      <td>Action, Adventure, Drama, Fantasy, Magic, Mili...</td>\n",
       "      <td>TV</td>\n",
       "      <td>64</td>\n",
       "      <td>9.26</td>\n",
       "      <td>793665</td>\n",
       "    </tr>\n",
       "    <tr>\n",
       "      <th>2</th>\n",
       "      <td>28977</td>\n",
       "      <td>Gintama°</td>\n",
       "      <td>Action, Comedy, Historical, Parody, Samurai, S...</td>\n",
       "      <td>TV</td>\n",
       "      <td>51</td>\n",
       "      <td>9.25</td>\n",
       "      <td>114262</td>\n",
       "    </tr>\n",
       "    <tr>\n",
       "      <th>10786</th>\n",
       "      <td>26313</td>\n",
       "      <td>Yakusoku: Africa Mizu to Midori</td>\n",
       "      <td>Drama, Kids</td>\n",
       "      <td>OVA</td>\n",
       "      <td>1</td>\n",
       "      <td>9.25</td>\n",
       "      <td>53</td>\n",
       "    </tr>\n",
       "    <tr>\n",
       "      <th>3</th>\n",
       "      <td>9253</td>\n",
       "      <td>Steins;Gate</td>\n",
       "      <td>Sci-Fi, Thriller</td>\n",
       "      <td>TV</td>\n",
       "      <td>24</td>\n",
       "      <td>9.17</td>\n",
       "      <td>673572</td>\n",
       "    </tr>\n",
       "    <tr>\n",
       "      <th>4</th>\n",
       "      <td>9969</td>\n",
       "      <td>Gintama&amp;#039;</td>\n",
       "      <td>Action, Comedy, Historical, Parody, Samurai, S...</td>\n",
       "      <td>TV</td>\n",
       "      <td>51</td>\n",
       "      <td>9.16</td>\n",
       "      <td>151266</td>\n",
       "    </tr>\n",
       "  </tbody>\n",
       "</table>\n",
       "</div>"
      ],
      "text/plain": [
       "       anime_id                                     name  \\\n",
       "10464     33662  Taka no Tsume 8: Yoshida-kun no X-Files   \n",
       "10400     30120              Spoon-hime no Swing Kitchen   \n",
       "9595      23005                         Mogura no Motoro   \n",
       "0         32281                           Kimi no Na wa.   \n",
       "9078      33607                             Kahei no Umi   \n",
       "1          5114         Fullmetal Alchemist: Brotherhood   \n",
       "2         28977                                 Gintama°   \n",
       "10786     26313          Yakusoku: Africa Mizu to Midori   \n",
       "3          9253                              Steins;Gate   \n",
       "4          9969                            Gintama&#039;   \n",
       "\n",
       "                                                   genre   type episodes  \\\n",
       "10464                                     Comedy, Parody  Movie        1   \n",
       "10400                                    Adventure, Kids     TV  Unknown   \n",
       "9595                                       Slice of Life  Movie        1   \n",
       "0                   Drama, Romance, School, Supernatural  Movie        1   \n",
       "9078                                          Historical  Movie        1   \n",
       "1      Action, Adventure, Drama, Fantasy, Magic, Mili...     TV       64   \n",
       "2      Action, Comedy, Historical, Parody, Samurai, S...     TV       51   \n",
       "10786                                        Drama, Kids    OVA        1   \n",
       "3                                       Sci-Fi, Thriller     TV       24   \n",
       "4      Action, Comedy, Historical, Parody, Samurai, S...     TV       51   \n",
       "\n",
       "       rating  members  \n",
       "10464   10.00       13  \n",
       "10400    9.60       47  \n",
       "9595     9.50       62  \n",
       "0        9.37   200630  \n",
       "9078     9.33       44  \n",
       "1        9.26   793665  \n",
       "2        9.25   114262  \n",
       "10786    9.25       53  \n",
       "3        9.17   673572  \n",
       "4        9.16   151266  "
      ]
     },
     "execution_count": 7,
     "metadata": {},
     "output_type": "execute_result"
    }
   ],
   "source": [
    "anime.sort_values(by='rating', ascending=False).head(10)"
   ]
  },
  {
   "cell_type": "code",
   "execution_count": 8,
   "id": "b644993b",
   "metadata": {},
   "outputs": [
    {
     "data": {
      "image/png": "[encoded data removed]",
      "text/plain": [
       "<Figure size 2000x1500 with 1 Axes>"
      ]
     },
     "metadata": {},
     "output_type": "display_data"
    }
   ],
   "source": [
    "plt.figure(figsize = (20,15))\n",
    "top10_anime = anime[['name', 'members']].sort_values(by = 'members',ascending = False).head(10)\n",
    "\n",
    "colors = ['#81F4E1', '#56CBF9', '#F5D491', '#BEB7A4', '#B4E1FF', '#F06C9B', '#D3C4D1', '#81F4E1', '#C2AFF0', '#C57B57']\n",
    "\n",
    "\n",
    "labels = top10_anime[['name']].values.flatten()\n",
    "values = top10_anime[['members']].values.flatten()\n",
    "\n",
    "plt.barh(labels, values, color = colors, edgecolor='black')\n",
    "plt.grid(color='#95a5a6', linestyle='--', linewidth=2, axis='x', alpha=0.7)\n",
    "plt.xticks(fontsize = 15)\n",
    "plt.yticks(fontsize = 15)\n",
    "plt.title(\"Top 10 Anime Community\", fontdict = {'fontsize' : 20})\n",
    "plt.show()\n",
    "\n",
    "plt.show()"
   ]
  },
  {
   "cell_type": "code",
   "execution_count": 9,
   "id": "640fce52",
   "metadata": {},
   "outputs": [],
   "source": [
    "df = pd.merge(df,anime.drop('rating',axis=1),on='anime_id')"
   ]
  },
  {
   "cell_type": "code",
   "execution_count": 10,
   "id": "86f86e29",
   "metadata": {},
   "outputs": [
    {
     "data": {
      "text/html": [
       "<div>\n",
       "<style scoped>\n",
       "    .dataframe tbody tr th:only-of-type {\n",
       "        vertical-align: middle;\n",
       "    }\n",
       "\n",
       "    .dataframe tbody tr th {\n",
       "        vertical-align: top;\n",
       "    }\n",
       "\n",
       "    .dataframe thead th {\n",
       "        text-align: right;\n",
       "    }\n",
       "</style>\n",
       "<table border=\"1\" class=\"dataframe\">\n",
       "  <thead>\n",
       "    <tr style=\"text-align: right;\">\n",
       "      <th></th>\n",
       "      <th>user_id</th>\n",
       "      <th>anime_id</th>\n",
       "      <th>rating</th>\n",
       "      <th>name</th>\n",
       "      <th>genre</th>\n",
       "      <th>type</th>\n",
       "      <th>episodes</th>\n",
       "      <th>members</th>\n",
       "    </tr>\n",
       "  </thead>\n",
       "  <tbody>\n",
       "    <tr>\n",
       "      <th>0</th>\n",
       "      <td>1</td>\n",
       "      <td>20</td>\n",
       "      <td>-1</td>\n",
       "      <td>Naruto</td>\n",
       "      <td>Action, Comedy, Martial Arts, Shounen, Super P...</td>\n",
       "      <td>TV</td>\n",
       "      <td>220</td>\n",
       "      <td>683297</td>\n",
       "    </tr>\n",
       "    <tr>\n",
       "      <th>1</th>\n",
       "      <td>3</td>\n",
       "      <td>20</td>\n",
       "      <td>8</td>\n",
       "      <td>Naruto</td>\n",
       "      <td>Action, Comedy, Martial Arts, Shounen, Super P...</td>\n",
       "      <td>TV</td>\n",
       "      <td>220</td>\n",
       "      <td>683297</td>\n",
       "    </tr>\n",
       "    <tr>\n",
       "      <th>2</th>\n",
       "      <td>5</td>\n",
       "      <td>20</td>\n",
       "      <td>6</td>\n",
       "      <td>Naruto</td>\n",
       "      <td>Action, Comedy, Martial Arts, Shounen, Super P...</td>\n",
       "      <td>TV</td>\n",
       "      <td>220</td>\n",
       "      <td>683297</td>\n",
       "    </tr>\n",
       "    <tr>\n",
       "      <th>3</th>\n",
       "      <td>6</td>\n",
       "      <td>20</td>\n",
       "      <td>-1</td>\n",
       "      <td>Naruto</td>\n",
       "      <td>Action, Comedy, Martial Arts, Shounen, Super P...</td>\n",
       "      <td>TV</td>\n",
       "      <td>220</td>\n",
       "      <td>683297</td>\n",
       "    </tr>\n",
       "    <tr>\n",
       "      <th>4</th>\n",
       "      <td>10</td>\n",
       "      <td>20</td>\n",
       "      <td>-1</td>\n",
       "      <td>Naruto</td>\n",
       "      <td>Action, Comedy, Martial Arts, Shounen, Super P...</td>\n",
       "      <td>TV</td>\n",
       "      <td>220</td>\n",
       "      <td>683297</td>\n",
       "    </tr>\n",
       "    <tr>\n",
       "      <th>...</th>\n",
       "      <td>...</td>\n",
       "      <td>...</td>\n",
       "      <td>...</td>\n",
       "      <td>...</td>\n",
       "      <td>...</td>\n",
       "      <td>...</td>\n",
       "      <td>...</td>\n",
       "      <td>...</td>\n",
       "    </tr>\n",
       "    <tr>\n",
       "      <th>7813722</th>\n",
       "      <td>65682</td>\n",
       "      <td>30450</td>\n",
       "      <td>8</td>\n",
       "      <td>Dr. Slump: Hoyoyo! Arale no Himitsu Dai Koukai...</td>\n",
       "      <td>Comedy, Sci-Fi, Shounen</td>\n",
       "      <td>Special</td>\n",
       "      <td>1</td>\n",
       "      <td>248</td>\n",
       "    </tr>\n",
       "    <tr>\n",
       "      <th>7813723</th>\n",
       "      <td>69497</td>\n",
       "      <td>33484</td>\n",
       "      <td>10</td>\n",
       "      <td>Shiroi Zou</td>\n",
       "      <td>Action, Historical, Kids</td>\n",
       "      <td>Movie</td>\n",
       "      <td>1</td>\n",
       "      <td>45</td>\n",
       "    </tr>\n",
       "    <tr>\n",
       "      <th>7813724</th>\n",
       "      <td>70463</td>\n",
       "      <td>29481</td>\n",
       "      <td>-1</td>\n",
       "      <td>Kakinoki Mokkii</td>\n",
       "      <td>Fantasy, Kids</td>\n",
       "      <td>Special</td>\n",
       "      <td>1</td>\n",
       "      <td>61</td>\n",
       "    </tr>\n",
       "    <tr>\n",
       "      <th>7813725</th>\n",
       "      <td>72404</td>\n",
       "      <td>34412</td>\n",
       "      <td>-1</td>\n",
       "      <td>Hashiri Hajimeta bakari no Kimi ni</td>\n",
       "      <td>Music</td>\n",
       "      <td>Music</td>\n",
       "      <td>1</td>\n",
       "      <td>239</td>\n",
       "    </tr>\n",
       "    <tr>\n",
       "      <th>7813726</th>\n",
       "      <td>72800</td>\n",
       "      <td>30738</td>\n",
       "      <td>4</td>\n",
       "      <td>Gamba: Gamba to Nakama-tachi</td>\n",
       "      <td>Adventure, Kids</td>\n",
       "      <td>Movie</td>\n",
       "      <td>1</td>\n",
       "      <td>185</td>\n",
       "    </tr>\n",
       "  </tbody>\n",
       "</table>\n",
       "<p>7813727 rows × 8 columns</p>\n",
       "</div>"
      ],
      "text/plain": [
       "         user_id  anime_id  rating  \\\n",
       "0              1        20      -1   \n",
       "1              3        20       8   \n",
       "2              5        20       6   \n",
       "3              6        20      -1   \n",
       "4             10        20      -1   \n",
       "...          ...       ...     ...   \n",
       "7813722    65682     30450       8   \n",
       "7813723    69497     33484      10   \n",
       "7813724    70463     29481      -1   \n",
       "7813725    72404     34412      -1   \n",
       "7813726    72800     30738       4   \n",
       "\n",
       "                                                      name  \\\n",
       "0                                                   Naruto   \n",
       "1                                                   Naruto   \n",
       "2                                                   Naruto   \n",
       "3                                                   Naruto   \n",
       "4                                                   Naruto   \n",
       "...                                                    ...   \n",
       "7813722  Dr. Slump: Hoyoyo! Arale no Himitsu Dai Koukai...   \n",
       "7813723                                         Shiroi Zou   \n",
       "7813724                                    Kakinoki Mokkii   \n",
       "7813725                 Hashiri Hajimeta bakari no Kimi ni   \n",
       "7813726                       Gamba: Gamba to Nakama-tachi   \n",
       "\n",
       "                                                     genre     type episodes  \\\n",
       "0        Action, Comedy, Martial Arts, Shounen, Super P...       TV      220   \n",
       "1        Action, Comedy, Martial Arts, Shounen, Super P...       TV      220   \n",
       "2        Action, Comedy, Martial Arts, Shounen, Super P...       TV      220   \n",
       "3        Action, Comedy, Martial Arts, Shounen, Super P...       TV      220   \n",
       "4        Action, Comedy, Martial Arts, Shounen, Super P...       TV      220   \n",
       "...                                                    ...      ...      ...   \n",
       "7813722                            Comedy, Sci-Fi, Shounen  Special        1   \n",
       "7813723                           Action, Historical, Kids    Movie        1   \n",
       "7813724                                      Fantasy, Kids  Special        1   \n",
       "7813725                                              Music    Music        1   \n",
       "7813726                                    Adventure, Kids    Movie        1   \n",
       "\n",
       "         members  \n",
       "0         683297  \n",
       "1         683297  \n",
       "2         683297  \n",
       "3         683297  \n",
       "4         683297  \n",
       "...          ...  \n",
       "7813722      248  \n",
       "7813723       45  \n",
       "7813724       61  \n",
       "7813725      239  \n",
       "7813726      185  \n",
       "\n",
       "[7813727 rows x 8 columns]"
      ]
     },
     "execution_count": 10,
     "metadata": {},
     "output_type": "execute_result"
    }
   ],
   "source": [
    "df"
   ]
  },
  {
   "cell_type": "code",
   "execution_count": 11,
   "id": "b7f4ad88",
   "metadata": {},
   "outputs": [
    {
     "data": {
      "text/plain": [
       "name\n",
       "Choegang Top Plate                                                  10.000000\n",
       "STAR BEAT!: Hoshi no Kodou                                          10.000000\n",
       "Shiroi Zou                                                          10.000000\n",
       "Warui no wo Taose!! Salaryman Man                                   10.000000\n",
       "Yakushiji Ryouko no Kaiki Jikenbo: Hamachou, Voice &amp; Fiction     9.000000\n",
       "Tang Lang Bu Chan                                                    9.000000\n",
       "Shiranpuri                                                           9.000000\n",
       "Doukyuusei                                                           9.000000\n",
       "Steins;Gate 0                                                        8.500000\n",
       "Kimi no Na wa.                                                       8.297863\n",
       "Name: rating, dtype: float64"
      ]
     },
     "execution_count": 11,
     "metadata": {},
     "output_type": "execute_result"
    }
   ],
   "source": [
    "df.groupby('name')['rating'].mean().sort_values(ascending=False).head(10)"
   ]
  },
  {
   "cell_type": "code",
   "execution_count": 12,
   "id": "dfb72ef2",
   "metadata": {},
   "outputs": [
    {
     "data": {
      "text/plain": [
       "Index(['user_id', 'anime_id', 'rating', 'name', 'genre', 'type', 'episodes',\n",
       "       'members'],\n",
       "      dtype='object')"
      ]
     },
     "execution_count": 12,
     "metadata": {},
     "output_type": "execute_result"
    }
   ],
   "source": [
    "df.columns"
   ]
  },
  {
   "cell_type": "code",
   "execution_count": 13,
   "id": "1a2f0ff3",
   "metadata": {},
   "outputs": [
    {
     "data": {
      "text/plain": [
       "0        Movie\n",
       "1           TV\n",
       "2           TV\n",
       "3           TV\n",
       "4           TV\n",
       "         ...  \n",
       "12289      OVA\n",
       "12290      OVA\n",
       "12291      OVA\n",
       "12292      OVA\n",
       "12293    Movie\n",
       "Name: type, Length: 12294, dtype: object"
      ]
     },
     "execution_count": 13,
     "metadata": {},
     "output_type": "execute_result"
    }
   ],
   "source": [
    "anime.type"
   ]
  },
  {
   "cell_type": "code",
   "execution_count": 14,
   "id": "b6b37315",
   "metadata": {},
   "outputs": [
    {
     "data": {
      "text/plain": [
       "name\n",
       "Death Note                          39340\n",
       "Sword Art Online                    30583\n",
       "Shingeki no Kyojin                  29584\n",
       "Code Geass: Hangyaku no Lelouch     27718\n",
       "Elfen Lied                          27506\n",
       "Angel Beats!                        27183\n",
       "Naruto                              25925\n",
       "Fullmetal Alchemist                 25032\n",
       "Fullmetal Alchemist: Brotherhood    24574\n",
       "Toradora!                           24283\n",
       "Name: rating, dtype: int64"
      ]
     },
     "execution_count": 14,
     "metadata": {},
     "output_type": "execute_result"
    }
   ],
   "source": [
    "df.groupby('name')['rating'].count().sort_values(ascending=False).head(10)"
   ]
  },
  {
   "cell_type": "code",
   "execution_count": 15,
   "id": "1d9e513c",
   "metadata": {},
   "outputs": [],
   "source": [
    "rating_tan = pd.DataFrame(df.groupby('name')['rating'].mean())\n",
    "rating_tan['Number of Ratings'] = pd.DataFrame(df.groupby('name')['rating'].count())\n",
    "\n",
    "genre_tan = pd.DataFrame(data=anime[['name','genre']])\n",
    "genre_tan.set_index('name',inplace=True)"
   ]
  },
  {
   "cell_type": "code",
   "execution_count": 16,
   "id": "766daf2c",
   "metadata": {},
   "outputs": [
    {
     "data": {
      "text/plain": [
       "(0.0, 3000.0)"
      ]
     },
     "execution_count": 16,
     "metadata": {},
     "output_type": "execute_result"
    },
    {
     "data": {
      "image/png": "[encoded data removed]",
      "text/plain": [
       "<Figure size 1500x500 with 1 Axes>"
      ]
     },
     "metadata": {},
     "output_type": "display_data"
    }
   ],
   "source": [
    "plt.figure(figsize=(15,5))\n",
    "rating_tan['Number of Ratings'].hist(bins=300)\n",
    "plt.xlim(0,3000)"
   ]
  },
  {
   "cell_type": "code",
   "execution_count": 17,
   "id": "13267157",
   "metadata": {},
   "outputs": [
    {
     "data": {
      "text/html": [
       "<div>\n",
       "<style scoped>\n",
       "    .dataframe tbody tr th:only-of-type {\n",
       "        vertical-align: middle;\n",
       "    }\n",
       "\n",
       "    .dataframe tbody tr th {\n",
       "        vertical-align: top;\n",
       "    }\n",
       "\n",
       "    .dataframe thead th {\n",
       "        text-align: right;\n",
       "    }\n",
       "</style>\n",
       "<table border=\"1\" class=\"dataframe\">\n",
       "  <thead>\n",
       "    <tr style=\"text-align: right;\">\n",
       "      <th></th>\n",
       "      <th>rating</th>\n",
       "      <th>Number of Ratings</th>\n",
       "    </tr>\n",
       "    <tr>\n",
       "      <th>name</th>\n",
       "      <th></th>\n",
       "      <th></th>\n",
       "    </tr>\n",
       "  </thead>\n",
       "  <tbody>\n",
       "    <tr>\n",
       "      <th>&amp;quot;0&amp;quot;</th>\n",
       "      <td>2.769231</td>\n",
       "      <td>26</td>\n",
       "    </tr>\n",
       "    <tr>\n",
       "      <th>&amp;quot;Aesop&amp;quot; no Ohanashi yori: Ushi to Kaeru, Yokubatta Inu</th>\n",
       "      <td>0.000000</td>\n",
       "      <td>2</td>\n",
       "    </tr>\n",
       "    <tr>\n",
       "      <th>&amp;quot;Bungaku Shoujo&amp;quot; Kyou no Oyatsu: Hatsukoi</th>\n",
       "      <td>5.774936</td>\n",
       "      <td>782</td>\n",
       "    </tr>\n",
       "    <tr>\n",
       "      <th>&amp;quot;Bungaku Shoujo&amp;quot; Memoire</th>\n",
       "      <td>6.155748</td>\n",
       "      <td>809</td>\n",
       "    </tr>\n",
       "    <tr>\n",
       "      <th>&amp;quot;Bungaku Shoujo&amp;quot; Movie</th>\n",
       "      <td>6.457980</td>\n",
       "      <td>1535</td>\n",
       "    </tr>\n",
       "    <tr>\n",
       "      <th>&amp;quot;Eiji&amp;quot;</th>\n",
       "      <td>5.000000</td>\n",
       "      <td>17</td>\n",
       "    </tr>\n",
       "    <tr>\n",
       "      <th>.hack//G.U. Returner</th>\n",
       "      <td>4.804110</td>\n",
       "      <td>730</td>\n",
       "    </tr>\n",
       "    <tr>\n",
       "      <th>.hack//G.U. Trilogy</th>\n",
       "      <td>5.347943</td>\n",
       "      <td>1118</td>\n",
       "    </tr>\n",
       "    <tr>\n",
       "      <th>.hack//G.U. Trilogy: Parody Mode</th>\n",
       "      <td>4.589235</td>\n",
       "      <td>353</td>\n",
       "    </tr>\n",
       "    <tr>\n",
       "      <th>.hack//Gift</th>\n",
       "      <td>4.675581</td>\n",
       "      <td>860</td>\n",
       "    </tr>\n",
       "  </tbody>\n",
       "</table>\n",
       "</div>"
      ],
      "text/plain": [
       "                                                      rating  \\\n",
       "name                                                           \n",
       "&quot;0&quot;                                       2.769231   \n",
       "&quot;Aesop&quot; no Ohanashi yori: Ushi to Kae...  0.000000   \n",
       "&quot;Bungaku Shoujo&quot; Kyou no Oyatsu: Hats...  5.774936   \n",
       "&quot;Bungaku Shoujo&quot; Memoire                  6.155748   \n",
       "&quot;Bungaku Shoujo&quot; Movie                    6.457980   \n",
       "&quot;Eiji&quot;                                    5.000000   \n",
       ".hack//G.U. Returner                                4.804110   \n",
       ".hack//G.U. Trilogy                                 5.347943   \n",
       ".hack//G.U. Trilogy: Parody Mode                    4.589235   \n",
       ".hack//Gift                                         4.675581   \n",
       "\n",
       "                                                    Number of Ratings  \n",
       "name                                                                   \n",
       "&quot;0&quot;                                                      26  \n",
       "&quot;Aesop&quot; no Ohanashi yori: Ushi to Kae...                  2  \n",
       "&quot;Bungaku Shoujo&quot; Kyou no Oyatsu: Hats...                782  \n",
       "&quot;Bungaku Shoujo&quot; Memoire                                809  \n",
       "&quot;Bungaku Shoujo&quot; Movie                                 1535  \n",
       "&quot;Eiji&quot;                                                   17  \n",
       ".hack//G.U. Returner                                              730  \n",
       ".hack//G.U. Trilogy                                              1118  \n",
       ".hack//G.U. Trilogy: Parody Mode                                  353  \n",
       ".hack//Gift                                                       860  "
      ]
     },
     "execution_count": 17,
     "metadata": {},
     "output_type": "execute_result"
    }
   ],
   "source": [
    "rating_tan.head(10)"
   ]
  },
  {
   "cell_type": "code",
   "execution_count": 18,
   "id": "dd2d9a9d",
   "metadata": {},
   "outputs": [
    {
     "data": {
      "text/plain": [
       "<AxesSubplot:>"
      ]
     },
     "execution_count": 18,
     "metadata": {},
     "output_type": "execute_result"
    },
    {
     "data": {
      "image/png": "[encoded data removed]",
      "text/plain": [
       "<Figure size 640x480 with 1 Axes>"
      ]
     },
     "metadata": {},
     "output_type": "display_data"
    }
   ],
   "source": [
    "rating_tan['rating'].hist(bins=50)"
   ]
  },
  {
   "cell_type": "code",
   "execution_count": 19,
   "id": "f944dbd8",
   "metadata": {},
   "outputs": [
    {
     "data": {
      "text/plain": [
       "<seaborn.axisgrid.JointGrid at 0x1c15bb52130>"
      ]
     },
     "execution_count": 19,
     "metadata": {},
     "output_type": "execute_result"
    },
    {
     "data": {
      "image/png": "[encoded data removed]",
      "text/plain": [
       "<Figure size 600x600 with 3 Axes>"
      ]
     },
     "metadata": {},
     "output_type": "display_data"
    }
   ],
   "source": [
    "sns.jointplot(x='rating',y='Number of Ratings',data=rating_tan)"
   ]
  },
  {
   "cell_type": "code",
   "execution_count": 20,
   "id": "c279cee8",
   "metadata": {},
   "outputs": [],
   "source": [
    "missing_value = pd.DataFrame({\n",
    "    'Missing Value': anime.isnull().sum(),\n",
    "    'Percentage': (anime.isnull().sum() / len(anime))*100\n",
    "})"
   ]
  },
  {
   "cell_type": "code",
   "execution_count": 21,
   "id": "f19ec73b",
   "metadata": {},
   "outputs": [
    {
     "data": {
      "text/html": [
       "<div>\n",
       "<style scoped>\n",
       "    .dataframe tbody tr th:only-of-type {\n",
       "        vertical-align: middle;\n",
       "    }\n",
       "\n",
       "    .dataframe tbody tr th {\n",
       "        vertical-align: top;\n",
       "    }\n",
       "\n",
       "    .dataframe thead th {\n",
       "        text-align: right;\n",
       "    }\n",
       "</style>\n",
       "<table border=\"1\" class=\"dataframe\">\n",
       "  <thead>\n",
       "    <tr style=\"text-align: right;\">\n",
       "      <th></th>\n",
       "      <th>Missing Value</th>\n",
       "      <th>Percentage</th>\n",
       "    </tr>\n",
       "  </thead>\n",
       "  <tbody>\n",
       "    <tr>\n",
       "      <th>rating</th>\n",
       "      <td>230</td>\n",
       "      <td>1.870831</td>\n",
       "    </tr>\n",
       "    <tr>\n",
       "      <th>genre</th>\n",
       "      <td>62</td>\n",
       "      <td>0.504311</td>\n",
       "    </tr>\n",
       "    <tr>\n",
       "      <th>type</th>\n",
       "      <td>25</td>\n",
       "      <td>0.203351</td>\n",
       "    </tr>\n",
       "    <tr>\n",
       "      <th>anime_id</th>\n",
       "      <td>0</td>\n",
       "      <td>0.000000</td>\n",
       "    </tr>\n",
       "    <tr>\n",
       "      <th>name</th>\n",
       "      <td>0</td>\n",
       "      <td>0.000000</td>\n",
       "    </tr>\n",
       "    <tr>\n",
       "      <th>episodes</th>\n",
       "      <td>0</td>\n",
       "      <td>0.000000</td>\n",
       "    </tr>\n",
       "    <tr>\n",
       "      <th>members</th>\n",
       "      <td>0</td>\n",
       "      <td>0.000000</td>\n",
       "    </tr>\n",
       "  </tbody>\n",
       "</table>\n",
       "</div>"
      ],
      "text/plain": [
       "          Missing Value  Percentage\n",
       "rating              230    1.870831\n",
       "genre                62    0.504311\n",
       "type                 25    0.203351\n",
       "anime_id              0    0.000000\n",
       "name                  0    0.000000\n",
       "episodes              0    0.000000\n",
       "members               0    0.000000"
      ]
     },
     "execution_count": 21,
     "metadata": {},
     "output_type": "execute_result"
    }
   ],
   "source": [
    "missing_value.sort_values(by='Percentage', ascending=False)"
   ]
  },
  {
   "cell_type": "code",
   "execution_count": 22,
   "id": "dd1c93e0",
   "metadata": {},
   "outputs": [
    {
     "data": {
      "text/plain": [
       "anime_id      0\n",
       "name          0\n",
       "genre        62\n",
       "type         25\n",
       "episodes      0\n",
       "rating      230\n",
       "members       0\n",
       "dtype: int64"
      ]
     },
     "execution_count": 22,
     "metadata": {},
     "output_type": "execute_result"
    }
   ],
   "source": [
    "anime.isna().sum()"
   ]
  },
  {
   "cell_type": "code",
   "execution_count": 23,
   "id": "d6dfcebb",
   "metadata": {},
   "outputs": [],
   "source": [
    "anime = anime.dropna()"
   ]
  },
  {
   "cell_type": "code",
   "execution_count": 24,
   "id": "364aceb5",
   "metadata": {},
   "outputs": [],
   "source": [
    "df[\"rating\"].replace(\"Unknown\", 0.0, inplace=True)\n",
    "df[\"episodes\"].replace(\"Unknown\", 0, inplace=True)"
   ]
  },
  {
   "cell_type": "code",
   "execution_count": 25,
   "id": "d4178f5f",
   "metadata": {},
   "outputs": [],
   "source": [
    "anime.loc[(anime[\"genre\"]==\"Hentai\") & (anime[\"episodes\"]==\"Unknown\"),\"episodes\"] = \"1\"\n",
    "anime.loc[(anime[\"type\"]==\"OVA\") & (anime[\"episodes\"]==\"Unknown\"),\"episodes\"] = \"1\"\n",
    "anime.loc[(anime[\"type\"] == \"Movie\") & (anime[\"episodes\"] == \"Unknown\")] = \"1\""
   ]
  },
  {
   "cell_type": "code",
   "execution_count": 26,
   "id": "b36c7644",
   "metadata": {},
   "outputs": [],
   "source": [
    "missing_value = pd.DataFrame({\n",
    "    'Missing Value': anime.isnull().sum(),\n",
    "    'Percentage': (anime.isnull().sum() / len(anime))*100\n",
    "})"
   ]
  },
  {
   "cell_type": "code",
   "execution_count": 27,
   "id": "a2f4bdf0",
   "metadata": {},
   "outputs": [
    {
     "data": {
      "text/html": [
       "<div>\n",
       "<style scoped>\n",
       "    .dataframe tbody tr th:only-of-type {\n",
       "        vertical-align: middle;\n",
       "    }\n",
       "\n",
       "    .dataframe tbody tr th {\n",
       "        vertical-align: top;\n",
       "    }\n",
       "\n",
       "    .dataframe thead th {\n",
       "        text-align: right;\n",
       "    }\n",
       "</style>\n",
       "<table border=\"1\" class=\"dataframe\">\n",
       "  <thead>\n",
       "    <tr style=\"text-align: right;\">\n",
       "      <th></th>\n",
       "      <th>Missing Value</th>\n",
       "      <th>Percentage</th>\n",
       "    </tr>\n",
       "  </thead>\n",
       "  <tbody>\n",
       "    <tr>\n",
       "      <th>anime_id</th>\n",
       "      <td>0</td>\n",
       "      <td>0.0</td>\n",
       "    </tr>\n",
       "    <tr>\n",
       "      <th>name</th>\n",
       "      <td>0</td>\n",
       "      <td>0.0</td>\n",
       "    </tr>\n",
       "    <tr>\n",
       "      <th>genre</th>\n",
       "      <td>0</td>\n",
       "      <td>0.0</td>\n",
       "    </tr>\n",
       "    <tr>\n",
       "      <th>type</th>\n",
       "      <td>0</td>\n",
       "      <td>0.0</td>\n",
       "    </tr>\n",
       "    <tr>\n",
       "      <th>episodes</th>\n",
       "      <td>0</td>\n",
       "      <td>0.0</td>\n",
       "    </tr>\n",
       "    <tr>\n",
       "      <th>rating</th>\n",
       "      <td>0</td>\n",
       "      <td>0.0</td>\n",
       "    </tr>\n",
       "    <tr>\n",
       "      <th>members</th>\n",
       "      <td>0</td>\n",
       "      <td>0.0</td>\n",
       "    </tr>\n",
       "  </tbody>\n",
       "</table>\n",
       "</div>"
      ],
      "text/plain": [
       "          Missing Value  Percentage\n",
       "anime_id              0         0.0\n",
       "name                  0         0.0\n",
       "genre                 0         0.0\n",
       "type                  0         0.0\n",
       "episodes              0         0.0\n",
       "rating                0         0.0\n",
       "members               0         0.0"
      ]
     },
     "execution_count": 27,
     "metadata": {},
     "output_type": "execute_result"
    }
   ],
   "source": [
    "missing_value.sort_values(by='Percentage', ascending=False)"
   ]
  },
  {
   "cell_type": "code",
   "execution_count": 28,
   "id": "5d3ac257",
   "metadata": {},
   "outputs": [
    {
     "data": {
      "text/plain": [
       "array(['Steins;Gate', 'Gintama&#039;',\n",
       "       'Haikyuu!!: Karasuno Koukou VS Shiratorizawa Gakuen Koukou',\n",
       "       'Hunter x Hunter (2011)', 'Ginga Eiyuu Densetsu',\n",
       "       'Gintama Movie: Kanketsu-hen - Yorozuya yo Eien Nare',\n",
       "       'Gintama&#039;: Enchousen'], dtype=object)"
      ]
     },
     "execution_count": 28,
     "metadata": {},
     "output_type": "execute_result"
    }
   ],
   "source": [
    "anime['name'].unique()[3:10]"
   ]
  },
  {
   "cell_type": "code",
   "execution_count": 29,
   "id": "1cbb357a",
   "metadata": {},
   "outputs": [
    {
     "data": {
      "text/plain": [
       "array(['1', '64', '51', '24', '10', '148', '110', '13', '201', '25', '22',\n",
       "       '75', '4', '26', '12', '27', '43', '74', '37', '2', '11', '99',\n",
       "       'Unknown', '39', '101', '47', '50', '62', '33', '112', '23', '3',\n",
       "       '94', '6', '8', '14', '7', '40', '15', '203', '77', '291', '120',\n",
       "       '102', '96', '38', '79', '175', '103', '70', '153', '45', '5',\n",
       "       '21', '63', '52', '28', '145', '36', '69', '60', '178', '114',\n",
       "       '35', '61', '34', '109', '20', '9', '49', '366', '97', '48', '78',\n",
       "       '358', '155', '104', '113', '54', '167', '161', '42', '142', '31',\n",
       "       '373', '220', '46', '195', '17', '1787', '73', '147', '127', '16',\n",
       "       '19', '98', '150', '76', '53', '124', '29', '115', '224', '44',\n",
       "       '58', '93', '154', '92', '67', '172', '86', '30', '276', '59',\n",
       "       '72', '330', '41', '105', '128', '137', '56', '55', '65', '243',\n",
       "       '193', '18', '191', '180', '91', '192', '66', '182', '32', '164',\n",
       "       '100', '296', '694', '95', '68', '117', '151', '130', '87', '170',\n",
       "       '119', '84', '108', '156', '140', '331', '305', '300', '510',\n",
       "       '200', '88', '1471', '526', '143', '726', '136', '1818', '237',\n",
       "       '1428', '365', '163', '283', '71', '260', '199', '225', '312',\n",
       "       '240', '1306', '1565', '773', '1274', '90', '475', '263', '83',\n",
       "       '85', '1006', '80', '162', '132', '141', '125'], dtype=object)"
      ]
     },
     "execution_count": 29,
     "metadata": {},
     "output_type": "execute_result"
    }
   ],
   "source": [
    "anime.episodes.unique()"
   ]
  },
  {
   "cell_type": "code",
   "execution_count": 30,
   "id": "02ee13f7",
   "metadata": {},
   "outputs": [],
   "source": [
    "fav = {\"Naruto Shippuuden\":500, \"One Piece\":784,\"Detective Conan\":854, \"Dragon Ball Super\":86,\n",
    "                \"Crayon Shin chan\":942, \"Yu Gi Oh Arc V\":148,\"Shingeki no Kyojin Season 2\":25,\n",
    "                \"Boku no Hero Academia 2nd Season\":25,\"Little Witch Academia TV\":25}"
   ]
  },
  {
   "cell_type": "code",
   "execution_count": 31,
   "id": "ba4443d0",
   "metadata": {},
   "outputs": [],
   "source": [
    "for i,j in fav.items():    \n",
    "    anime.loc[anime[\"name\"]==i,\"episodes\"] = j"
   ]
  },
  {
   "cell_type": "code",
   "execution_count": 32,
   "id": "3715133a",
   "metadata": {},
   "outputs": [],
   "source": [
    "df = (\n",
    "    df.astype({\"anime_id\": \"float\"})\n",
    "    .astype({\"anime_id\": \"int\", \"episodes\": \"int\", \"rating\": \"float\"})\n",
    "    .sort_values(\"anime_id\")\n",
    ")"
   ]
  },
  {
   "cell_type": "code",
   "execution_count": 33,
   "id": "62cab48a",
   "metadata": {},
   "outputs": [
    {
     "name": "stdout",
     "output_type": "stream",
     "text": [
      ":- Mean of rating for each type\n"
     ]
    },
    {
     "data": {
      "text/plain": [
       "type\n",
       "Movie      6.14\n",
       "Music      5.16\n",
       "ONA        5.45\n",
       "OVA        5.43\n",
       "Special    5.38\n",
       "TV         6.35\n",
       "Name: rating, dtype: float64"
      ]
     },
     "metadata": {},
     "output_type": "display_data"
    },
    {
     "name": "stdout",
     "output_type": "stream",
     "text": [
      "\n",
      ":- Mean of episodes for each type\n"
     ]
    },
    {
     "data": {
      "text/plain": [
       "type\n",
       "Movie       1\n",
       "Music       2\n",
       "ONA        12\n",
       "OVA         3\n",
       "Special     3\n",
       "TV         26\n",
       "Name: episodes, dtype: int32"
      ]
     },
     "metadata": {},
     "output_type": "display_data"
    }
   ],
   "source": [
    "group_type = df.groupby(\"type\")\n",
    "print(\":- Mean of rating for each type\")\n",
    "display(mean_scores := group_type[\"rating\"].mean().round(2))\n",
    "\n",
    "print(\"\\n:- Mean of episodes for each type\")\n",
    "display(mean_episodes := group_type[\"episodes\"].mean().round().astype(int))"
   ]
  },
  {
   "cell_type": "code",
   "execution_count": 34,
   "id": "aff82f0d",
   "metadata": {},
   "outputs": [
    {
     "name": "stdout",
     "output_type": "stream",
     "text": [
      "There are 7 duplicated rows in the data\n"
     ]
    }
   ],
   "source": [
    "duplicate = df.duplicated(subset=['anime_id','user_id']).sum()\n",
    "print('There are {} duplicated rows in the data'.format(duplicate))"
   ]
  },
  {
   "cell_type": "code",
   "execution_count": 35,
   "id": "2712227f",
   "metadata": {},
   "outputs": [
    {
     "name": "stdout",
     "output_type": "stream",
     "text": [
      "There are 1 duplicated rows in the data\n"
     ]
    }
   ],
   "source": [
    "duplicate = df.duplicated().sum()\n",
    "print('There are {} duplicated rows in the data'.format(duplicate))"
   ]
  },
  {
   "cell_type": "code",
   "execution_count": 36,
   "id": "f2af4210",
   "metadata": {},
   "outputs": [],
   "source": [
    "df.drop_duplicates(subset=['anime_id','user_id'],inplace=True)"
   ]
  },
  {
   "cell_type": "code",
   "execution_count": 37,
   "id": "83045eeb",
   "metadata": {},
   "outputs": [
    {
     "name": "stdout",
     "output_type": "stream",
     "text": [
      "There are 0 duplicated rows in the data\n"
     ]
    }
   ],
   "source": [
    "duplicate = df.duplicated().sum()\n",
    "print('There are {} duplicated rows in the data'.format(duplicate))"
   ]
  },
  {
   "cell_type": "code",
   "execution_count": 38,
   "id": "0b5d4a37",
   "metadata": {},
   "outputs": [
    {
     "data": {
      "text/html": [
       "<div>\n",
       "<style scoped>\n",
       "    .dataframe tbody tr th:only-of-type {\n",
       "        vertical-align: middle;\n",
       "    }\n",
       "\n",
       "    .dataframe tbody tr th {\n",
       "        vertical-align: top;\n",
       "    }\n",
       "\n",
       "    .dataframe thead th {\n",
       "        text-align: right;\n",
       "    }\n",
       "</style>\n",
       "<table border=\"1\" class=\"dataframe\">\n",
       "  <thead>\n",
       "    <tr style=\"text-align: right;\">\n",
       "      <th></th>\n",
       "      <th>user_id</th>\n",
       "      <th>anime_id</th>\n",
       "      <th>rating</th>\n",
       "      <th>episodes</th>\n",
       "      <th>members</th>\n",
       "    </tr>\n",
       "  </thead>\n",
       "  <tbody>\n",
       "    <tr>\n",
       "      <th>user_id</th>\n",
       "      <td>1.000000</td>\n",
       "      <td>-0.031643</td>\n",
       "      <td>0.002468</td>\n",
       "      <td>-0.000943</td>\n",
       "      <td>-0.015725</td>\n",
       "    </tr>\n",
       "    <tr>\n",
       "      <th>anime_id</th>\n",
       "      <td>-0.031643</td>\n",
       "      <td>1.000000</td>\n",
       "      <td>-0.005884</td>\n",
       "      <td>-0.154997</td>\n",
       "      <td>0.006582</td>\n",
       "    </tr>\n",
       "    <tr>\n",
       "      <th>rating</th>\n",
       "      <td>0.002468</td>\n",
       "      <td>-0.005884</td>\n",
       "      <td>1.000000</td>\n",
       "      <td>0.040597</td>\n",
       "      <td>0.141319</td>\n",
       "    </tr>\n",
       "    <tr>\n",
       "      <th>episodes</th>\n",
       "      <td>-0.000943</td>\n",
       "      <td>-0.154997</td>\n",
       "      <td>0.040597</td>\n",
       "      <td>1.000000</td>\n",
       "      <td>0.255442</td>\n",
       "    </tr>\n",
       "    <tr>\n",
       "      <th>members</th>\n",
       "      <td>-0.015725</td>\n",
       "      <td>0.006582</td>\n",
       "      <td>0.141319</td>\n",
       "      <td>0.255442</td>\n",
       "      <td>1.000000</td>\n",
       "    </tr>\n",
       "  </tbody>\n",
       "</table>\n",
       "</div>"
      ],
      "text/plain": [
       "           user_id  anime_id    rating  episodes   members\n",
       "user_id   1.000000 -0.031643  0.002468 -0.000943 -0.015725\n",
       "anime_id -0.031643  1.000000 -0.005884 -0.154997  0.006582\n",
       "rating    0.002468 -0.005884  1.000000  0.040597  0.141319\n",
       "episodes -0.000943 -0.154997  0.040597  1.000000  0.255442\n",
       "members  -0.015725  0.006582  0.141319  0.255442  1.000000"
      ]
     },
     "execution_count": 38,
     "metadata": {},
     "output_type": "execute_result"
    }
   ],
   "source": [
    "df.corr()"
   ]
  },
  {
   "cell_type": "code",
   "execution_count": 39,
   "id": "6700c36d",
   "metadata": {},
   "outputs": [
    {
     "data": {
      "text/html": [
       "<div>\n",
       "<style scoped>\n",
       "    .dataframe tbody tr th:only-of-type {\n",
       "        vertical-align: middle;\n",
       "    }\n",
       "\n",
       "    .dataframe tbody tr th {\n",
       "        vertical-align: top;\n",
       "    }\n",
       "\n",
       "    .dataframe thead th {\n",
       "        text-align: right;\n",
       "    }\n",
       "</style>\n",
       "<table border=\"1\" class=\"dataframe\">\n",
       "  <thead>\n",
       "    <tr style=\"text-align: right;\">\n",
       "      <th></th>\n",
       "      <th>user_id</th>\n",
       "      <th>anime_id</th>\n",
       "      <th>rating</th>\n",
       "      <th>episodes</th>\n",
       "      <th>members</th>\n",
       "    </tr>\n",
       "  </thead>\n",
       "  <tbody>\n",
       "    <tr>\n",
       "      <th>user_id</th>\n",
       "      <td>1.000000</td>\n",
       "      <td>-0.031643</td>\n",
       "      <td>0.002468</td>\n",
       "      <td>-0.000943</td>\n",
       "      <td>-0.015725</td>\n",
       "    </tr>\n",
       "    <tr>\n",
       "      <th>anime_id</th>\n",
       "      <td>-0.031643</td>\n",
       "      <td>1.000000</td>\n",
       "      <td>-0.005884</td>\n",
       "      <td>-0.154997</td>\n",
       "      <td>0.006582</td>\n",
       "    </tr>\n",
       "    <tr>\n",
       "      <th>rating</th>\n",
       "      <td>0.002468</td>\n",
       "      <td>-0.005884</td>\n",
       "      <td>1.000000</td>\n",
       "      <td>0.040597</td>\n",
       "      <td>0.141319</td>\n",
       "    </tr>\n",
       "    <tr>\n",
       "      <th>episodes</th>\n",
       "      <td>-0.000943</td>\n",
       "      <td>-0.154997</td>\n",
       "      <td>0.040597</td>\n",
       "      <td>1.000000</td>\n",
       "      <td>0.255442</td>\n",
       "    </tr>\n",
       "    <tr>\n",
       "      <th>members</th>\n",
       "      <td>-0.015725</td>\n",
       "      <td>0.006582</td>\n",
       "      <td>0.141319</td>\n",
       "      <td>0.255442</td>\n",
       "      <td>1.000000</td>\n",
       "    </tr>\n",
       "  </tbody>\n",
       "</table>\n",
       "</div>"
      ],
      "text/plain": [
       "           user_id  anime_id    rating  episodes   members\n",
       "user_id   1.000000 -0.031643  0.002468 -0.000943 -0.015725\n",
       "anime_id -0.031643  1.000000 -0.005884 -0.154997  0.006582\n",
       "rating    0.002468 -0.005884  1.000000  0.040597  0.141319\n",
       "episodes -0.000943 -0.154997  0.040597  1.000000  0.255442\n",
       "members  -0.015725  0.006582  0.141319  0.255442  1.000000"
      ]
     },
     "execution_count": 39,
     "metadata": {},
     "output_type": "execute_result"
    }
   ],
   "source": [
    "corr_matrix=df.corr()\n",
    "corr_matrix"
   ]
  },
  {
   "cell_type": "code",
   "execution_count": 40,
   "id": "697b79a5",
   "metadata": {},
   "outputs": [
    {
     "data": {
      "image/png": "[encoded data removed]",
      "text/plain": [
       "<Figure size 1100x900 with 2 Axes>"
      ]
     },
     "metadata": {},
     "output_type": "display_data"
    }
   ],
   "source": [
    "plt.figure(figsize=(11,9))\n",
    "sns.heatmap(corr_matrix, cmap='Purples', annot=True, fmt=\".2f\")\n",
    "sns.set(font_scale=1.5)"
   ]
  },
  {
   "cell_type": "code",
   "execution_count": 41,
   "id": "88fce53b",
   "metadata": {},
   "outputs": [
    {
     "data": {
      "text/html": [
       "<div>\n",
       "<style scoped>\n",
       "    .dataframe tbody tr th:only-of-type {\n",
       "        vertical-align: middle;\n",
       "    }\n",
       "\n",
       "    .dataframe tbody tr th {\n",
       "        vertical-align: top;\n",
       "    }\n",
       "\n",
       "    .dataframe thead th {\n",
       "        text-align: right;\n",
       "    }\n",
       "</style>\n",
       "<table border=\"1\" class=\"dataframe\">\n",
       "  <thead>\n",
       "    <tr style=\"text-align: right;\">\n",
       "      <th></th>\n",
       "      <th>anime_id</th>\n",
       "      <th>name</th>\n",
       "      <th>genre</th>\n",
       "      <th>type</th>\n",
       "      <th>episodes</th>\n",
       "      <th>rating</th>\n",
       "      <th>members</th>\n",
       "    </tr>\n",
       "  </thead>\n",
       "  <tbody>\n",
       "    <tr>\n",
       "      <th>0</th>\n",
       "      <td>32281</td>\n",
       "      <td>Kimi no Na wa.</td>\n",
       "      <td>Drama, Romance, School, Supernatural</td>\n",
       "      <td>Movie</td>\n",
       "      <td>1</td>\n",
       "      <td>9.37</td>\n",
       "      <td>200630</td>\n",
       "    </tr>\n",
       "    <tr>\n",
       "      <th>1</th>\n",
       "      <td>5114</td>\n",
       "      <td>Fullmetal Alchemist: Brotherhood</td>\n",
       "      <td>Action, Adventure, Drama, Fantasy, Magic, Mili...</td>\n",
       "      <td>TV</td>\n",
       "      <td>64</td>\n",
       "      <td>9.26</td>\n",
       "      <td>793665</td>\n",
       "    </tr>\n",
       "    <tr>\n",
       "      <th>2</th>\n",
       "      <td>28977</td>\n",
       "      <td>Gintama°</td>\n",
       "      <td>Action, Comedy, Historical, Parody, Samurai, S...</td>\n",
       "      <td>TV</td>\n",
       "      <td>51</td>\n",
       "      <td>9.25</td>\n",
       "      <td>114262</td>\n",
       "    </tr>\n",
       "    <tr>\n",
       "      <th>3</th>\n",
       "      <td>9253</td>\n",
       "      <td>Steins;Gate</td>\n",
       "      <td>Sci-Fi, Thriller</td>\n",
       "      <td>TV</td>\n",
       "      <td>24</td>\n",
       "      <td>9.17</td>\n",
       "      <td>673572</td>\n",
       "    </tr>\n",
       "    <tr>\n",
       "      <th>4</th>\n",
       "      <td>9969</td>\n",
       "      <td>Gintama&amp;#039;</td>\n",
       "      <td>Action, Comedy, Historical, Parody, Samurai, S...</td>\n",
       "      <td>TV</td>\n",
       "      <td>51</td>\n",
       "      <td>9.16</td>\n",
       "      <td>151266</td>\n",
       "    </tr>\n",
       "    <tr>\n",
       "      <th>...</th>\n",
       "      <td>...</td>\n",
       "      <td>...</td>\n",
       "      <td>...</td>\n",
       "      <td>...</td>\n",
       "      <td>...</td>\n",
       "      <td>...</td>\n",
       "      <td>...</td>\n",
       "    </tr>\n",
       "    <tr>\n",
       "      <th>12289</th>\n",
       "      <td>9316</td>\n",
       "      <td>Toushindai My Lover: Minami tai Mecha-Minami</td>\n",
       "      <td>Hentai</td>\n",
       "      <td>OVA</td>\n",
       "      <td>1</td>\n",
       "      <td>4.15</td>\n",
       "      <td>211</td>\n",
       "    </tr>\n",
       "    <tr>\n",
       "      <th>12290</th>\n",
       "      <td>5543</td>\n",
       "      <td>Under World</td>\n",
       "      <td>Hentai</td>\n",
       "      <td>OVA</td>\n",
       "      <td>1</td>\n",
       "      <td>4.28</td>\n",
       "      <td>183</td>\n",
       "    </tr>\n",
       "    <tr>\n",
       "      <th>12291</th>\n",
       "      <td>5621</td>\n",
       "      <td>Violence Gekiga David no Hoshi</td>\n",
       "      <td>Hentai</td>\n",
       "      <td>OVA</td>\n",
       "      <td>4</td>\n",
       "      <td>4.88</td>\n",
       "      <td>219</td>\n",
       "    </tr>\n",
       "    <tr>\n",
       "      <th>12292</th>\n",
       "      <td>6133</td>\n",
       "      <td>Violence Gekiga Shin David no Hoshi: Inma Dens...</td>\n",
       "      <td>Hentai</td>\n",
       "      <td>OVA</td>\n",
       "      <td>1</td>\n",
       "      <td>4.98</td>\n",
       "      <td>175</td>\n",
       "    </tr>\n",
       "    <tr>\n",
       "      <th>12293</th>\n",
       "      <td>26081</td>\n",
       "      <td>Yasuji no Pornorama: Yacchimae!!</td>\n",
       "      <td>Hentai</td>\n",
       "      <td>Movie</td>\n",
       "      <td>1</td>\n",
       "      <td>5.46</td>\n",
       "      <td>142</td>\n",
       "    </tr>\n",
       "  </tbody>\n",
       "</table>\n",
       "<p>12017 rows × 7 columns</p>\n",
       "</div>"
      ],
      "text/plain": [
       "      anime_id                                               name  \\\n",
       "0        32281                                     Kimi no Na wa.   \n",
       "1         5114                   Fullmetal Alchemist: Brotherhood   \n",
       "2        28977                                           Gintama°   \n",
       "3         9253                                        Steins;Gate   \n",
       "4         9969                                      Gintama&#039;   \n",
       "...        ...                                                ...   \n",
       "12289     9316       Toushindai My Lover: Minami tai Mecha-Minami   \n",
       "12290     5543                                        Under World   \n",
       "12291     5621                     Violence Gekiga David no Hoshi   \n",
       "12292     6133  Violence Gekiga Shin David no Hoshi: Inma Dens...   \n",
       "12293    26081                   Yasuji no Pornorama: Yacchimae!!   \n",
       "\n",
       "                                                   genre   type episodes  \\\n",
       "0                   Drama, Romance, School, Supernatural  Movie        1   \n",
       "1      Action, Adventure, Drama, Fantasy, Magic, Mili...     TV       64   \n",
       "2      Action, Comedy, Historical, Parody, Samurai, S...     TV       51   \n",
       "3                                       Sci-Fi, Thriller     TV       24   \n",
       "4      Action, Comedy, Historical, Parody, Samurai, S...     TV       51   \n",
       "...                                                  ...    ...      ...   \n",
       "12289                                             Hentai    OVA        1   \n",
       "12290                                             Hentai    OVA        1   \n",
       "12291                                             Hentai    OVA        4   \n",
       "12292                                             Hentai    OVA        1   \n",
       "12293                                             Hentai  Movie        1   \n",
       "\n",
       "      rating members  \n",
       "0       9.37  200630  \n",
       "1       9.26  793665  \n",
       "2       9.25  114262  \n",
       "3       9.17  673572  \n",
       "4       9.16  151266  \n",
       "...      ...     ...  \n",
       "12289   4.15     211  \n",
       "12290   4.28     183  \n",
       "12291   4.88     219  \n",
       "12292   4.98     175  \n",
       "12293   5.46     142  \n",
       "\n",
       "[12017 rows x 7 columns]"
      ]
     },
     "execution_count": 41,
     "metadata": {},
     "output_type": "execute_result"
    }
   ],
   "source": [
    "anime"
   ]
  },
  {
   "cell_type": "code",
   "execution_count": 42,
   "id": "f315f61b",
   "metadata": {},
   "outputs": [
    {
     "data": {
      "text/html": [
       "<div>\n",
       "<style scoped>\n",
       "    .dataframe tbody tr th:only-of-type {\n",
       "        vertical-align: middle;\n",
       "    }\n",
       "\n",
       "    .dataframe tbody tr th {\n",
       "        vertical-align: top;\n",
       "    }\n",
       "\n",
       "    .dataframe thead th {\n",
       "        text-align: right;\n",
       "    }\n",
       "</style>\n",
       "<table border=\"1\" class=\"dataframe\">\n",
       "  <thead>\n",
       "    <tr style=\"text-align: right;\">\n",
       "      <th></th>\n",
       "      <th>name</th>\n",
       "      <th>totalRatingCount</th>\n",
       "    </tr>\n",
       "  </thead>\n",
       "  <tbody>\n",
       "    <tr>\n",
       "      <th>0</th>\n",
       "      <td>&amp;quot;0&amp;quot;</td>\n",
       "      <td>26</td>\n",
       "    </tr>\n",
       "    <tr>\n",
       "      <th>1</th>\n",
       "      <td>&amp;quot;Aesop&amp;quot; no Ohanashi yori: Ushi to Ka...</td>\n",
       "      <td>2</td>\n",
       "    </tr>\n",
       "    <tr>\n",
       "      <th>2</th>\n",
       "      <td>&amp;quot;Bungaku Shoujo&amp;quot; Kyou no Oyatsu: Hat...</td>\n",
       "      <td>782</td>\n",
       "    </tr>\n",
       "    <tr>\n",
       "      <th>3</th>\n",
       "      <td>&amp;quot;Bungaku Shoujo&amp;quot; Memoire</td>\n",
       "      <td>809</td>\n",
       "    </tr>\n",
       "    <tr>\n",
       "      <th>4</th>\n",
       "      <td>&amp;quot;Bungaku Shoujo&amp;quot; Movie</td>\n",
       "      <td>1535</td>\n",
       "    </tr>\n",
       "  </tbody>\n",
       "</table>\n",
       "</div>"
      ],
      "text/plain": [
       "                                                name  totalRatingCount\n",
       "0                                      &quot;0&quot;                26\n",
       "1  &quot;Aesop&quot; no Ohanashi yori: Ushi to Ka...                 2\n",
       "2  &quot;Bungaku Shoujo&quot; Kyou no Oyatsu: Hat...               782\n",
       "3                 &quot;Bungaku Shoujo&quot; Memoire               809\n",
       "4                   &quot;Bungaku Shoujo&quot; Movie              1535"
      ]
     },
     "execution_count": 42,
     "metadata": {},
     "output_type": "execute_result"
    }
   ],
   "source": [
    "anime_rating_count = df.groupby(by = ['name'])['rating'].count().reset_index()[['name', 'rating']]\n",
    "anime_rating_count.rename(columns = {'rating': 'totalRatingCount'},inplace=True)\n",
    "anime_rating_count.head()"
   ]
  },
  {
   "cell_type": "code",
   "execution_count": 43,
   "id": "ad0bb1bd",
   "metadata": {},
   "outputs": [
    {
     "data": {
      "text/plain": [
       "Text(0, 0.5, 'User Rating count')"
      ]
     },
     "execution_count": 43,
     "metadata": {},
     "output_type": "execute_result"
    },
    {
     "data": {
      "image/png": "[encoded data removed]",
      "text/plain": [
       "<Figure size 1500x500 with 1 Axes>"
      ]
     },
     "metadata": {},
     "output_type": "display_data"
    }
   ],
   "source": [
    "top10_animerating=anime_rating_count[['name', 'totalRatingCount']].sort_values(by = 'totalRatingCount',ascending = False).head(10)\n",
    "plt.figure(figsize=(15,5))\n",
    "ax=sns.barplot(x=\"name\", y=\"totalRatingCount\", data=top10_animerating, palette=\"Dark2\")\n",
    "ax.set_xticklabels(ax.get_xticklabels(), fontsize=11, rotation=40, ha=\"right\")\n",
    "ax.set_title('Top 10 Anime based on rating counts',fontsize = 22)\n",
    "ax.set_xlabel('Anime',fontsize = 20) \n",
    "ax.set_ylabel('User Rating count', fontsize = 20)"
   ]
  },
  {
   "cell_type": "code",
   "execution_count": 44,
   "id": "9be4ee43",
   "metadata": {},
   "outputs": [
    {
     "data": {
      "text/html": [
       "<div>\n",
       "<style scoped>\n",
       "    .dataframe tbody tr th:only-of-type {\n",
       "        vertical-align: middle;\n",
       "    }\n",
       "\n",
       "    .dataframe tbody tr th {\n",
       "        vertical-align: top;\n",
       "    }\n",
       "\n",
       "    .dataframe thead th {\n",
       "        text-align: right;\n",
       "    }\n",
       "</style>\n",
       "<table border=\"1\" class=\"dataframe\">\n",
       "  <thead>\n",
       "    <tr style=\"text-align: right;\">\n",
       "      <th></th>\n",
       "      <th>user_id</th>\n",
       "      <th>anime_id</th>\n",
       "      <th>rating</th>\n",
       "      <th>name</th>\n",
       "      <th>genre</th>\n",
       "      <th>type</th>\n",
       "      <th>episodes</th>\n",
       "      <th>members</th>\n",
       "      <th>totalRatingCount</th>\n",
       "    </tr>\n",
       "  </thead>\n",
       "  <tbody>\n",
       "    <tr>\n",
       "      <th>0</th>\n",
       "      <td>71275</td>\n",
       "      <td>1</td>\n",
       "      <td>9.0</td>\n",
       "      <td>Cowboy Bebop</td>\n",
       "      <td>Action, Adventure, Comedy, Drama, Sci-Fi, Space</td>\n",
       "      <td>TV</td>\n",
       "      <td>26</td>\n",
       "      <td>486824</td>\n",
       "      <td>15509</td>\n",
       "    </tr>\n",
       "    <tr>\n",
       "      <th>1</th>\n",
       "      <td>31866</td>\n",
       "      <td>1</td>\n",
       "      <td>10.0</td>\n",
       "      <td>Cowboy Bebop</td>\n",
       "      <td>Action, Adventure, Comedy, Drama, Sci-Fi, Space</td>\n",
       "      <td>TV</td>\n",
       "      <td>26</td>\n",
       "      <td>486824</td>\n",
       "      <td>15509</td>\n",
       "    </tr>\n",
       "    <tr>\n",
       "      <th>2</th>\n",
       "      <td>31860</td>\n",
       "      <td>1</td>\n",
       "      <td>10.0</td>\n",
       "      <td>Cowboy Bebop</td>\n",
       "      <td>Action, Adventure, Comedy, Drama, Sci-Fi, Space</td>\n",
       "      <td>TV</td>\n",
       "      <td>26</td>\n",
       "      <td>486824</td>\n",
       "      <td>15509</td>\n",
       "    </tr>\n",
       "    <tr>\n",
       "      <th>3</th>\n",
       "      <td>31858</td>\n",
       "      <td>1</td>\n",
       "      <td>9.0</td>\n",
       "      <td>Cowboy Bebop</td>\n",
       "      <td>Action, Adventure, Comedy, Drama, Sci-Fi, Space</td>\n",
       "      <td>TV</td>\n",
       "      <td>26</td>\n",
       "      <td>486824</td>\n",
       "      <td>15509</td>\n",
       "    </tr>\n",
       "    <tr>\n",
       "      <th>4</th>\n",
       "      <td>31851</td>\n",
       "      <td>1</td>\n",
       "      <td>7.0</td>\n",
       "      <td>Cowboy Bebop</td>\n",
       "      <td>Action, Adventure, Comedy, Drama, Sci-Fi, Space</td>\n",
       "      <td>TV</td>\n",
       "      <td>26</td>\n",
       "      <td>486824</td>\n",
       "      <td>15509</td>\n",
       "    </tr>\n",
       "  </tbody>\n",
       "</table>\n",
       "</div>"
      ],
      "text/plain": [
       "   user_id  anime_id  rating          name  \\\n",
       "0    71275         1     9.0  Cowboy Bebop   \n",
       "1    31866         1    10.0  Cowboy Bebop   \n",
       "2    31860         1    10.0  Cowboy Bebop   \n",
       "3    31858         1     9.0  Cowboy Bebop   \n",
       "4    31851         1     7.0  Cowboy Bebop   \n",
       "\n",
       "                                             genre type  episodes  members  \\\n",
       "0  Action, Adventure, Comedy, Drama, Sci-Fi, Space   TV        26   486824   \n",
       "1  Action, Adventure, Comedy, Drama, Sci-Fi, Space   TV        26   486824   \n",
       "2  Action, Adventure, Comedy, Drama, Sci-Fi, Space   TV        26   486824   \n",
       "3  Action, Adventure, Comedy, Drama, Sci-Fi, Space   TV        26   486824   \n",
       "4  Action, Adventure, Comedy, Drama, Sci-Fi, Space   TV        26   486824   \n",
       "\n",
       "   totalRatingCount  \n",
       "0             15509  \n",
       "1             15509  \n",
       "2             15509  \n",
       "3             15509  \n",
       "4             15509  "
      ]
     },
     "execution_count": 44,
     "metadata": {},
     "output_type": "execute_result"
    }
   ],
   "source": [
    "anime_rating_data=df.merge(anime_rating_count, left_on = 'name', right_on = 'name', how = 'left')\n",
    "anime_rating_data.head()"
   ]
  },
  {
   "cell_type": "code",
   "execution_count": 45,
   "id": "eb46717d",
   "metadata": {},
   "outputs": [
    {
     "data": {
      "text/plain": [
       "7802524"
      ]
     },
     "execution_count": 45,
     "metadata": {},
     "output_type": "execute_result"
    }
   ],
   "source": [
    "anime_rating_data.duplicated(subset=['name']).sum()"
   ]
  },
  {
   "cell_type": "code",
   "execution_count": 46,
   "id": "096afe4b",
   "metadata": {},
   "outputs": [
    {
     "data": {
      "text/html": [
       "<div>\n",
       "<style scoped>\n",
       "    .dataframe tbody tr th:only-of-type {\n",
       "        vertical-align: middle;\n",
       "    }\n",
       "\n",
       "    .dataframe tbody tr th {\n",
       "        vertical-align: top;\n",
       "    }\n",
       "\n",
       "    .dataframe thead th {\n",
       "        text-align: right;\n",
       "    }\n",
       "</style>\n",
       "<table border=\"1\" class=\"dataframe\">\n",
       "  <thead>\n",
       "    <tr style=\"text-align: right;\">\n",
       "      <th></th>\n",
       "      <th>user_id</th>\n",
       "      <th>anime_id</th>\n",
       "      <th>rating</th>\n",
       "      <th>name</th>\n",
       "      <th>genre</th>\n",
       "      <th>type</th>\n",
       "      <th>episodes</th>\n",
       "      <th>members</th>\n",
       "      <th>totalRatingCount</th>\n",
       "    </tr>\n",
       "  </thead>\n",
       "  <tbody>\n",
       "    <tr>\n",
       "      <th>0</th>\n",
       "      <td>71275</td>\n",
       "      <td>1</td>\n",
       "      <td>9.0</td>\n",
       "      <td>Cowboy Bebop</td>\n",
       "      <td>Action, Adventure, Comedy, Drama, Sci-Fi, Space</td>\n",
       "      <td>TV</td>\n",
       "      <td>26</td>\n",
       "      <td>486824</td>\n",
       "      <td>15509</td>\n",
       "    </tr>\n",
       "    <tr>\n",
       "      <th>15509</th>\n",
       "      <td>25619</td>\n",
       "      <td>5</td>\n",
       "      <td>7.0</td>\n",
       "      <td>Cowboy Bebop: Tengoku no Tobira</td>\n",
       "      <td>Action, Drama, Mystery, Sci-Fi, Space</td>\n",
       "      <td>Movie</td>\n",
       "      <td>1</td>\n",
       "      <td>137636</td>\n",
       "      <td>6927</td>\n",
       "    </tr>\n",
       "    <tr>\n",
       "      <th>22436</th>\n",
       "      <td>28070</td>\n",
       "      <td>6</td>\n",
       "      <td>4.0</td>\n",
       "      <td>Trigun</td>\n",
       "      <td>Action, Comedy, Sci-Fi</td>\n",
       "      <td>TV</td>\n",
       "      <td>26</td>\n",
       "      <td>283069</td>\n",
       "      <td>11077</td>\n",
       "    </tr>\n",
       "    <tr>\n",
       "      <th>33513</th>\n",
       "      <td>50294</td>\n",
       "      <td>7</td>\n",
       "      <td>7.0</td>\n",
       "      <td>Witch Hunter Robin</td>\n",
       "      <td>Action, Drama, Magic, Mystery, Police, Superna...</td>\n",
       "      <td>TV</td>\n",
       "      <td>26</td>\n",
       "      <td>64905</td>\n",
       "      <td>2629</td>\n",
       "    </tr>\n",
       "    <tr>\n",
       "      <th>36142</th>\n",
       "      <td>64133</td>\n",
       "      <td>8</td>\n",
       "      <td>8.0</td>\n",
       "      <td>Beet the Vandel Buster</td>\n",
       "      <td>Adventure, Fantasy, Shounen, Supernatural</td>\n",
       "      <td>TV</td>\n",
       "      <td>52</td>\n",
       "      <td>9848</td>\n",
       "      <td>413</td>\n",
       "    </tr>\n",
       "  </tbody>\n",
       "</table>\n",
       "</div>"
      ],
      "text/plain": [
       "       user_id  anime_id  rating                             name  \\\n",
       "0        71275         1     9.0                     Cowboy Bebop   \n",
       "15509    25619         5     7.0  Cowboy Bebop: Tengoku no Tobira   \n",
       "22436    28070         6     4.0                           Trigun   \n",
       "33513    50294         7     7.0               Witch Hunter Robin   \n",
       "36142    64133         8     8.0           Beet the Vandel Buster   \n",
       "\n",
       "                                                   genre   type  episodes  \\\n",
       "0        Action, Adventure, Comedy, Drama, Sci-Fi, Space     TV        26   \n",
       "15509              Action, Drama, Mystery, Sci-Fi, Space  Movie         1   \n",
       "22436                             Action, Comedy, Sci-Fi     TV        26   \n",
       "33513  Action, Drama, Magic, Mystery, Police, Superna...     TV        26   \n",
       "36142          Adventure, Fantasy, Shounen, Supernatural     TV        52   \n",
       "\n",
       "       members  totalRatingCount  \n",
       "0       486824             15509  \n",
       "15509   137636              6927  \n",
       "22436   283069             11077  \n",
       "33513    64905              2629  \n",
       "36142     9848               413  "
      ]
     },
     "execution_count": 46,
     "metadata": {},
     "output_type": "execute_result"
    }
   ],
   "source": [
    "anime1=anime_rating_data.drop_duplicates(subset=['name'])\n",
    "anime1.head()"
   ]
  },
  {
   "cell_type": "code",
   "execution_count": 47,
   "id": "13f56141",
   "metadata": {},
   "outputs": [
    {
     "data": {
      "text/plain": [
       "Text(0, 0.5, 'Community Size')"
      ]
     },
     "execution_count": 47,
     "metadata": {},
     "output_type": "execute_result"
    },
    {
     "data": {
      "image/png": "[encoded data removed]",
      "text/plain": [
       "<Figure size 1500x500 with 1 Axes>"
      ]
     },
     "metadata": {},
     "output_type": "display_data"
    }
   ],
   "source": [
    "top10_animemembers=anime1[['name', 'members']].sort_values(by = 'members',ascending = False).head(10)\n",
    "plt.figure(figsize=(15,5))\n",
    "ax=sns.barplot(x=\"name\", y=\"members\", data=top10_animemembers, palette=\"gnuplot2\")\n",
    "ax.set_xticklabels(ax.get_xticklabels(), fontsize=11, rotation=40, ha=\"right\")\n",
    "ax.set_title('Top 10 Anime based on members',fontsize = 22)\n",
    "ax.set_xlabel('Anime',fontsize = 20) \n",
    "ax.set_ylabel('Community Size', fontsize = 20)"
   ]
  },
  {
   "cell_type": "code",
   "execution_count": 48,
   "id": "74990f6f",
   "metadata": {},
   "outputs": [
    {
     "data": {
      "text/plain": [
       "<AxesSubplot:ylabel='Frequency'>"
      ]
     },
     "execution_count": 48,
     "metadata": {},
     "output_type": "execute_result"
    },
    {
     "data": {
      "image/png": "[encoded data removed]",
      "text/plain": [
       "<Figure size 640x480 with 1 Axes>"
      ]
     },
     "metadata": {},
     "output_type": "display_data"
    }
   ],
   "source": [
    "df[\"rating\"].plot(kind = 'hist',color='#B4E1FF', edgecolor='black')"
   ]
  },
  {
   "cell_type": "code",
   "execution_count": 49,
   "id": "314f59d6",
   "metadata": {},
   "outputs": [
    {
     "data": {
      "text/plain": [
       "<AxesSubplot:xlabel='type', ylabel='Count'>"
      ]
     },
     "execution_count": 49,
     "metadata": {},
     "output_type": "execute_result"
    },
    {
     "data": {
      "image/png": "[encoded data removed]",
      "text/plain": [
       "<Figure size 640x480 with 1 Axes>"
      ]
     },
     "metadata": {},
     "output_type": "display_data"
    }
   ],
   "source": [
    "sns.histplot(x='type', data=anime,color='#B4E1FF', edgecolor='black')"
   ]
  },
  {
   "cell_type": "code",
   "execution_count": 50,
   "id": "48eb229f",
   "metadata": {},
   "outputs": [
    {
     "data": {
      "image/png": "[encoded data removed]",
      "text/plain": [
       "<Figure size 640x480 with 1 Axes>"
      ]
     },
     "metadata": {},
     "output_type": "display_data"
    }
   ],
   "source": [
    "sns.histplot(x='rating', data=anime,color='#B4E1FF', edgecolor='black')\n",
    "plt.show()"
   ]
  },
  {
   "cell_type": "code",
   "execution_count": 51,
   "id": "b016227b",
   "metadata": {},
   "outputs": [
    {
     "data": {
      "image/png": "[encoded data removed]",
      "text/plain": [
       "<Figure size 640x480 with 1 Axes>"
      ]
     },
     "metadata": {},
     "output_type": "display_data"
    }
   ],
   "source": [
    "sns.boxplot(x='rating', y='type', data=df)\n",
    "plt.show()"
   ]
  },
  {
   "cell_type": "code",
   "execution_count": 52,
   "id": "dde5c763",
   "metadata": {},
   "outputs": [
    {
     "data": {
      "text/plain": [
       "genre\n",
       "Action                                                     3831\n",
       "Action, Adventure                                          7974\n",
       "Action, Adventure, Cars, Comedy, Sci-Fi, Shounen            401\n",
       "Action, Adventure, Cars, Mecha, Sci-Fi, Shounen, Sports      78\n",
       "Action, Adventure, Cars, Sci-Fi                             396\n",
       "                                                           ... \n",
       "Super Power, Supernatural, Vampire                          111\n",
       "Supernatural                                                127\n",
       "Thriller                                                    194\n",
       "Vampire                                                      45\n",
       "Yaoi                                                        403\n",
       "Name: genre, Length: 3154, dtype: int64"
      ]
     },
     "execution_count": 52,
     "metadata": {},
     "output_type": "execute_result"
    }
   ],
   "source": [
    "df.groupby('genre')['genre'].agg('count')"
   ]
  },
  {
   "cell_type": "code",
   "execution_count": 53,
   "id": "982eb530",
   "metadata": {},
   "outputs": [],
   "source": [
    "anime[\"episodes\"] = anime[\"episodes\"].map(lambda x:np.nan if x==\"Unknown\" else x)"
   ]
  },
  {
   "cell_type": "code",
   "execution_count": 54,
   "id": "319f69e5",
   "metadata": {},
   "outputs": [],
   "source": [
    "anime[\"episodes\"].fillna(anime[\"episodes\"].median(),inplace = True)"
   ]
  },
  {
   "cell_type": "code",
   "execution_count": 55,
   "id": "a8bcf407",
   "metadata": {},
   "outputs": [],
   "source": [
    "anime[\"rating\"] = anime[\"rating\"].astype(float)"
   ]
  },
  {
   "cell_type": "code",
   "execution_count": 56,
   "id": "1cabf09e",
   "metadata": {},
   "outputs": [],
   "source": [
    "anime[\"rating\"].fillna(anime[\"rating\"].median(),inplace = True)"
   ]
  },
  {
   "cell_type": "code",
   "execution_count": 57,
   "id": "90c4c8f9",
   "metadata": {},
   "outputs": [
    {
     "data": {
      "text/html": [
       "<div>\n",
       "<style scoped>\n",
       "    .dataframe tbody tr th:only-of-type {\n",
       "        vertical-align: middle;\n",
       "    }\n",
       "\n",
       "    .dataframe tbody tr th {\n",
       "        vertical-align: top;\n",
       "    }\n",
       "\n",
       "    .dataframe thead th {\n",
       "        text-align: right;\n",
       "    }\n",
       "</style>\n",
       "<table border=\"1\" class=\"dataframe\">\n",
       "  <thead>\n",
       "    <tr style=\"text-align: right;\">\n",
       "      <th></th>\n",
       "      <th>type_1</th>\n",
       "      <th>type_Movie</th>\n",
       "      <th>type_Music</th>\n",
       "      <th>type_ONA</th>\n",
       "      <th>type_OVA</th>\n",
       "      <th>type_Special</th>\n",
       "      <th>type_TV</th>\n",
       "    </tr>\n",
       "  </thead>\n",
       "  <tbody>\n",
       "    <tr>\n",
       "      <th>0</th>\n",
       "      <td>0</td>\n",
       "      <td>1</td>\n",
       "      <td>0</td>\n",
       "      <td>0</td>\n",
       "      <td>0</td>\n",
       "      <td>0</td>\n",
       "      <td>0</td>\n",
       "    </tr>\n",
       "    <tr>\n",
       "      <th>1</th>\n",
       "      <td>0</td>\n",
       "      <td>0</td>\n",
       "      <td>0</td>\n",
       "      <td>0</td>\n",
       "      <td>0</td>\n",
       "      <td>0</td>\n",
       "      <td>1</td>\n",
       "    </tr>\n",
       "    <tr>\n",
       "      <th>2</th>\n",
       "      <td>0</td>\n",
       "      <td>0</td>\n",
       "      <td>0</td>\n",
       "      <td>0</td>\n",
       "      <td>0</td>\n",
       "      <td>0</td>\n",
       "      <td>1</td>\n",
       "    </tr>\n",
       "    <tr>\n",
       "      <th>3</th>\n",
       "      <td>0</td>\n",
       "      <td>0</td>\n",
       "      <td>0</td>\n",
       "      <td>0</td>\n",
       "      <td>0</td>\n",
       "      <td>0</td>\n",
       "      <td>1</td>\n",
       "    </tr>\n",
       "    <tr>\n",
       "      <th>4</th>\n",
       "      <td>0</td>\n",
       "      <td>0</td>\n",
       "      <td>0</td>\n",
       "      <td>0</td>\n",
       "      <td>0</td>\n",
       "      <td>0</td>\n",
       "      <td>1</td>\n",
       "    </tr>\n",
       "  </tbody>\n",
       "</table>\n",
       "</div>"
      ],
      "text/plain": [
       "   type_1  type_Movie  type_Music  type_ONA  type_OVA  type_Special  type_TV\n",
       "0       0           1           0         0         0             0        0\n",
       "1       0           0           0         0         0             0        1\n",
       "2       0           0           0         0         0             0        1\n",
       "3       0           0           0         0         0             0        1\n",
       "4       0           0           0         0         0             0        1"
      ]
     },
     "execution_count": 57,
     "metadata": {},
     "output_type": "execute_result"
    }
   ],
   "source": [
    "pd.get_dummies(anime[[\"type\"]]).head()"
   ]
  },
  {
   "cell_type": "code",
   "execution_count": 58,
   "id": "0107fb62",
   "metadata": {},
   "outputs": [],
   "source": [
    "anime[\"members\"] = anime[\"members\"].astype(float)"
   ]
  },
  {
   "cell_type": "code",
   "execution_count": 59,
   "id": "5f052ff9",
   "metadata": {},
   "outputs": [],
   "source": [
    "ani_feature = pd.concat([anime[\"genre\"].str.get_dummies(sep=\",\"),pd.get_dummies(anime[[\"type\"]]),anime[[\"rating\"]],anime[[\"members\"]],anime[\"episodes\"]],axis=1)\n",
    "anime[\"name\"] = anime[\"name\"].map(lambda name:re.sub('[^A-Za-z0-9]+', \" \", name))"
   ]
  },
  {
   "cell_type": "code",
   "execution_count": 60,
   "id": "e01dc5c4",
   "metadata": {},
   "outputs": [
    {
     "data": {
      "text/html": [
       "<div>\n",
       "<style scoped>\n",
       "    .dataframe tbody tr th:only-of-type {\n",
       "        vertical-align: middle;\n",
       "    }\n",
       "\n",
       "    .dataframe tbody tr th {\n",
       "        vertical-align: top;\n",
       "    }\n",
       "\n",
       "    .dataframe thead th {\n",
       "        text-align: right;\n",
       "    }\n",
       "</style>\n",
       "<table border=\"1\" class=\"dataframe\">\n",
       "  <thead>\n",
       "    <tr style=\"text-align: right;\">\n",
       "      <th></th>\n",
       "      <th>Adventure</th>\n",
       "      <th>Cars</th>\n",
       "      <th>Comedy</th>\n",
       "      <th>Dementia</th>\n",
       "      <th>Demons</th>\n",
       "      <th>Drama</th>\n",
       "      <th>Ecchi</th>\n",
       "      <th>Fantasy</th>\n",
       "      <th>Game</th>\n",
       "      <th>Harem</th>\n",
       "      <th>...</th>\n",
       "      <th>type_1</th>\n",
       "      <th>type_Movie</th>\n",
       "      <th>type_Music</th>\n",
       "      <th>type_ONA</th>\n",
       "      <th>type_OVA</th>\n",
       "      <th>type_Special</th>\n",
       "      <th>type_TV</th>\n",
       "      <th>rating</th>\n",
       "      <th>members</th>\n",
       "      <th>episodes</th>\n",
       "    </tr>\n",
       "  </thead>\n",
       "  <tbody>\n",
       "    <tr>\n",
       "      <th>0</th>\n",
       "      <td>0</td>\n",
       "      <td>0</td>\n",
       "      <td>0</td>\n",
       "      <td>0</td>\n",
       "      <td>0</td>\n",
       "      <td>0</td>\n",
       "      <td>0</td>\n",
       "      <td>0</td>\n",
       "      <td>0</td>\n",
       "      <td>0</td>\n",
       "      <td>...</td>\n",
       "      <td>0</td>\n",
       "      <td>1</td>\n",
       "      <td>0</td>\n",
       "      <td>0</td>\n",
       "      <td>0</td>\n",
       "      <td>0</td>\n",
       "      <td>0</td>\n",
       "      <td>9.37</td>\n",
       "      <td>200630.0</td>\n",
       "      <td>1</td>\n",
       "    </tr>\n",
       "    <tr>\n",
       "      <th>1</th>\n",
       "      <td>1</td>\n",
       "      <td>0</td>\n",
       "      <td>0</td>\n",
       "      <td>0</td>\n",
       "      <td>0</td>\n",
       "      <td>1</td>\n",
       "      <td>0</td>\n",
       "      <td>1</td>\n",
       "      <td>0</td>\n",
       "      <td>0</td>\n",
       "      <td>...</td>\n",
       "      <td>0</td>\n",
       "      <td>0</td>\n",
       "      <td>0</td>\n",
       "      <td>0</td>\n",
       "      <td>0</td>\n",
       "      <td>0</td>\n",
       "      <td>1</td>\n",
       "      <td>9.26</td>\n",
       "      <td>793665.0</td>\n",
       "      <td>64</td>\n",
       "    </tr>\n",
       "    <tr>\n",
       "      <th>2</th>\n",
       "      <td>0</td>\n",
       "      <td>0</td>\n",
       "      <td>1</td>\n",
       "      <td>0</td>\n",
       "      <td>0</td>\n",
       "      <td>0</td>\n",
       "      <td>0</td>\n",
       "      <td>0</td>\n",
       "      <td>0</td>\n",
       "      <td>0</td>\n",
       "      <td>...</td>\n",
       "      <td>0</td>\n",
       "      <td>0</td>\n",
       "      <td>0</td>\n",
       "      <td>0</td>\n",
       "      <td>0</td>\n",
       "      <td>0</td>\n",
       "      <td>1</td>\n",
       "      <td>9.25</td>\n",
       "      <td>114262.0</td>\n",
       "      <td>51</td>\n",
       "    </tr>\n",
       "    <tr>\n",
       "      <th>3</th>\n",
       "      <td>0</td>\n",
       "      <td>0</td>\n",
       "      <td>0</td>\n",
       "      <td>0</td>\n",
       "      <td>0</td>\n",
       "      <td>0</td>\n",
       "      <td>0</td>\n",
       "      <td>0</td>\n",
       "      <td>0</td>\n",
       "      <td>0</td>\n",
       "      <td>...</td>\n",
       "      <td>0</td>\n",
       "      <td>0</td>\n",
       "      <td>0</td>\n",
       "      <td>0</td>\n",
       "      <td>0</td>\n",
       "      <td>0</td>\n",
       "      <td>1</td>\n",
       "      <td>9.17</td>\n",
       "      <td>673572.0</td>\n",
       "      <td>24</td>\n",
       "    </tr>\n",
       "    <tr>\n",
       "      <th>4</th>\n",
       "      <td>0</td>\n",
       "      <td>0</td>\n",
       "      <td>1</td>\n",
       "      <td>0</td>\n",
       "      <td>0</td>\n",
       "      <td>0</td>\n",
       "      <td>0</td>\n",
       "      <td>0</td>\n",
       "      <td>0</td>\n",
       "      <td>0</td>\n",
       "      <td>...</td>\n",
       "      <td>0</td>\n",
       "      <td>0</td>\n",
       "      <td>0</td>\n",
       "      <td>0</td>\n",
       "      <td>0</td>\n",
       "      <td>0</td>\n",
       "      <td>1</td>\n",
       "      <td>9.16</td>\n",
       "      <td>151266.0</td>\n",
       "      <td>51</td>\n",
       "    </tr>\n",
       "  </tbody>\n",
       "</table>\n",
       "<p>5 rows × 93 columns</p>\n",
       "</div>"
      ],
      "text/plain": [
       "    Adventure   Cars   Comedy   Dementia   Demons   Drama   Ecchi   Fantasy  \\\n",
       "0           0      0        0          0        0       0       0         0   \n",
       "1           1      0        0          0        0       1       0         1   \n",
       "2           0      0        1          0        0       0       0         0   \n",
       "3           0      0        0          0        0       0       0         0   \n",
       "4           0      0        1          0        0       0       0         0   \n",
       "\n",
       "    Game   Harem  ...  type_1  type_Movie  type_Music  type_ONA  type_OVA  \\\n",
       "0      0       0  ...       0           1           0         0         0   \n",
       "1      0       0  ...       0           0           0         0         0   \n",
       "2      0       0  ...       0           0           0         0         0   \n",
       "3      0       0  ...       0           0           0         0         0   \n",
       "4      0       0  ...       0           0           0         0         0   \n",
       "\n",
       "   type_Special  type_TV  rating   members  episodes  \n",
       "0             0        0    9.37  200630.0         1  \n",
       "1             0        1    9.26  793665.0        64  \n",
       "2             0        1    9.25  114262.0        51  \n",
       "3             0        1    9.17  673572.0        24  \n",
       "4             0        1    9.16  151266.0        51  \n",
       "\n",
       "[5 rows x 93 columns]"
      ]
     },
     "execution_count": 60,
     "metadata": {},
     "output_type": "execute_result"
    }
   ],
   "source": [
    "ani_feature.head()"
   ]
  },
  {
   "cell_type": "code",
   "execution_count": 61,
   "id": "a9bcbb72",
   "metadata": {},
   "outputs": [
    {
     "data": {
      "text/plain": [
       "Index([' Adventure', ' Cars', ' Comedy', ' Dementia', ' Demons', ' Drama',\n",
       "       ' Ecchi', ' Fantasy', ' Game', ' Harem', ' Hentai', ' Historical',\n",
       "       ' Horror', ' Josei', ' Kids', ' Magic', ' Martial Arts', ' Mecha',\n",
       "       ' Military', ' Music', ' Mystery', ' Parody', ' Police',\n",
       "       ' Psychological', ' Romance', ' Samurai', ' School', ' Sci-Fi',\n",
       "       ' Seinen', ' Shoujo', ' Shoujo Ai', ' Shounen', ' Shounen Ai',\n",
       "       ' Slice of Life', ' Space', ' Sports', ' Super Power', ' Supernatural',\n",
       "       ' Thriller', ' Vampire', ' Yaoi', ' Yuri', '1', 'Action', 'Adventure',\n",
       "       'Cars', 'Comedy', 'Dementia', 'Demons', 'Drama', 'Ecchi', 'Fantasy',\n",
       "       'Game', 'Harem', 'Hentai', 'Historical', 'Horror', 'Josei', 'Kids',\n",
       "       'Magic', 'Martial Arts', 'Mecha', 'Military', 'Music', 'Mystery',\n",
       "       'Parody', 'Police', 'Psychological', 'Romance', 'Samurai', 'School',\n",
       "       'Sci-Fi', 'Seinen', 'Shoujo', 'Shounen', 'Slice of Life', 'Space',\n",
       "       'Sports', 'Super Power', 'Supernatural', 'Thriller', 'Vampire', 'Yaoi',\n",
       "       'type_1', 'type_Movie', 'type_Music', 'type_ONA', 'type_OVA',\n",
       "       'type_Special', 'type_TV', 'rating', 'members', 'episodes'],\n",
       "      dtype='object')"
      ]
     },
     "execution_count": 61,
     "metadata": {},
     "output_type": "execute_result"
    }
   ],
   "source": [
    "ani_feature.columns"
   ]
  },
  {
   "cell_type": "code",
   "execution_count": 62,
   "id": "487634fb",
   "metadata": {},
   "outputs": [],
   "source": [
    "tan_scaler = MaxAbsScaler()\n",
    "anime_features = tan_scaler.fit_transform(ani_feature)"
   ]
  },
  {
   "cell_type": "code",
   "execution_count": 63,
   "id": "8a5e4c3b",
   "metadata": {},
   "outputs": [],
   "source": [
    "nbrs = NearestNeighbors(n_neighbors=6, algorithm='ball_tree').fit(ani_feature)"
   ]
  },
  {
   "cell_type": "code",
   "execution_count": 64,
   "id": "2ec76269",
   "metadata": {},
   "outputs": [],
   "source": [
    "distances, indices = nbrs.kneighbors(ani_feature)"
   ]
  },
  {
   "cell_type": "code",
   "execution_count": 65,
   "id": "75b9d517",
   "metadata": {},
   "outputs": [],
   "source": [
    "def index_name(name):\n",
    "    return anime[anime[\"name\"]==name].index.tolist()[0]"
   ]
  },
  {
   "cell_type": "code",
   "execution_count": 66,
   "id": "7b35db5c",
   "metadata": {},
   "outputs": [
    {
     "data": {
      "text/plain": [
       "841"
      ]
     },
     "execution_count": 66,
     "metadata": {},
     "output_type": "execute_result"
    }
   ],
   "source": [
    "index_name(\"Naruto\")"
   ]
  },
  {
   "cell_type": "code",
   "execution_count": 67,
   "id": "0f1cc5bb",
   "metadata": {},
   "outputs": [],
   "source": [
    "all_anime_names = list(anime.name.values)"
   ]
  },
  {
   "cell_type": "code",
   "execution_count": 68,
   "id": "e2d4e912",
   "metadata": {},
   "outputs": [],
   "source": [
    "def get_id_name(partial):\n",
    "    for name in all_anime_names:\n",
    "        if partial in name:\n",
    "            print(name,all_anime_names.index(name))"
   ]
  },
  {
   "cell_type": "code",
   "execution_count": 69,
   "id": "c9e50661",
   "metadata": {},
   "outputs": [],
   "source": [
    "def similar_animes(query=None,id=None):\n",
    "    if id:\n",
    "        for id in indices[id][1:]:\n",
    "            print(anime.iloc[id][\"name\"])\n",
    "    if query:\n",
    "        found_id = index_name(query)\n",
    "        for id in indices[found_id][1:]:\n",
    "            print(anime.iloc[id][\"name\"])"
   ]
  },
  {
   "cell_type": "code",
   "execution_count": 70,
   "id": "5cf70451",
   "metadata": {},
   "outputs": [
    {
     "name": "stdout",
     "output_type": "stream",
     "text": [
      "Kill la Kill\n",
      "Psycho Pass\n",
      "Noragami\n",
      "Akame ga Kill \n",
      "Cowboy Bebop\n"
     ]
    }
   ],
   "source": [
    "similar_animes(\"One Piece\")"
   ]
  },
  {
   "cell_type": "code",
   "execution_count": 71,
   "id": "ca524859",
   "metadata": {},
   "outputs": [
    {
     "name": "stdout",
     "output_type": "stream",
     "text": [
      "Steins Gate\n",
      "Mirai Nikki TV \n",
      "Code Geass Hangyaku no Lelouch\n",
      "Angel Beats \n",
      "Toradora \n"
     ]
    }
   ],
   "source": [
    "similar_animes(\"Naruto\")"
   ]
  },
  {
   "cell_type": "code",
   "execution_count": 72,
   "id": "2bd6b6d7",
   "metadata": {},
   "outputs": [
    {
     "name": "stdout",
     "output_type": "stream",
     "text": [
      "Noragami Aragoto\n",
      "Rosario to Vampire\n",
      "Baka to Test to Shoukanjuu\n",
      "Date A Live\n",
      "Danganronpa Kibou no Gakuen to Zetsubou no Koukousei The Animation\n"
     ]
    }
   ],
   "source": [
    "similar_animes(\"Mushishi\")"
   ]
  },
  {
   "cell_type": "code",
   "execution_count": 73,
   "id": "0bb62f4a",
   "metadata": {},
   "outputs": [
    {
     "name": "stdout",
     "output_type": "stream",
     "text": [
      "Dungeon ni Deai wo Motomeru no wa Machigatteiru Darou ka\n",
      "Ookami to Koushinryou\n",
      "Kuroko no Basket\n",
      "D Gray man\n",
      "Mononoke Hime\n"
     ]
    }
   ],
   "source": [
    "similar_animes(\"Gintama\")"
   ]
  },
  {
   "cell_type": "code",
   "execution_count": 74,
   "id": "f4cd4751",
   "metadata": {},
   "outputs": [
    {
     "name": "stdout",
     "output_type": "stream",
     "text": [
      "Boruto Naruto the Movie 486\n",
      "Naruto Shippuuden 615\n",
      "The Last Naruto the Movie 719\n",
      "Naruto Shippuuden Movie 6 Road to Ninja 784\n",
      "Naruto 841\n",
      "Boruto Naruto the Movie Naruto ga Hokage ni Natta Hi 1103\n",
      "Naruto Shippuuden Movie 5 Blood Prison 1237\n",
      "Naruto x UT 1343\n",
      "Naruto Shippuuden Movie 4 The Lost Tower 1472\n",
      "Naruto Shippuuden Movie 3 Hi no Ishi wo Tsugu Mono 1573\n",
      "Naruto Shippuuden Movie 1 1827\n",
      "Naruto Shippuuden Movie 2 Kizuna 1828\n",
      "Naruto Shippuuden Shippuu quot Konoha Gakuen quot Den 2374\n",
      "Naruto Honoo no Chuunin Shiken Naruto vs Konohamaru  2416\n",
      "Naruto SD Rock Lee no Seishun Full Power Ninden 2457\n",
      "Naruto Shippuuden Sunny Side Battle 2458\n",
      "Naruto Movie 1 Dai Katsugeki Yuki Hime Shinobu Houjou Dattebayo  2756\n",
      "Naruto Soyokazeden Movie Naruto to Mashin to Mitsu no Onegai Dattebayo  2996\n",
      "Naruto Movie 2 Dai Gekitotsu Maboroshi no Chiteiiseki Dattebayo  3448\n",
      "Naruto Dai Katsugeki Yuki Hime Shinobu Houjou Dattebayo Special Konoha Annual Sports Festival 3528\n",
      "Naruto Movie 3 Dai Koufun Mikazuki Jima no Animaru Panikku Dattebayo  3558\n",
      "Naruto The Cross Roads 3559\n",
      "Naruto Narutimate Hero 3 Tsuini Gekitotsu Jounin vs Genin Musabetsu Dairansen taikai Kaisai  3836\n",
      "Naruto Takigakure no Shitou Ore ga Eiyuu Dattebayo  3982\n",
      "Naruto Akaki Yotsuba no Clover wo Sagase 5109\n"
     ]
    }
   ],
   "source": [
    "get_id_name(\"Naruto\")"
   ]
  },
  {
   "cell_type": "code",
   "execution_count": 75,
   "id": "39e12c6b",
   "metadata": {},
   "outputs": [
    {
     "data": {
      "text/html": [
       "<div>\n",
       "<style scoped>\n",
       "    .dataframe tbody tr th:only-of-type {\n",
       "        vertical-align: middle;\n",
       "    }\n",
       "\n",
       "    .dataframe tbody tr th {\n",
       "        vertical-align: top;\n",
       "    }\n",
       "\n",
       "    .dataframe thead th {\n",
       "        text-align: right;\n",
       "    }\n",
       "</style>\n",
       "<table border=\"1\" class=\"dataframe\">\n",
       "  <thead>\n",
       "    <tr style=\"text-align: right;\">\n",
       "      <th></th>\n",
       "      <th>0</th>\n",
       "      <th>1</th>\n",
       "      <th>2</th>\n",
       "      <th>3</th>\n",
       "      <th>4</th>\n",
       "      <th>5</th>\n",
       "      <th>6</th>\n",
       "      <th>7</th>\n",
       "      <th>8</th>\n",
       "      <th>9</th>\n",
       "      <th>10</th>\n",
       "      <th>11</th>\n",
       "      <th>12</th>\n",
       "    </tr>\n",
       "  </thead>\n",
       "  <tbody>\n",
       "    <tr>\n",
       "      <th>0</th>\n",
       "      <td>Drama</td>\n",
       "      <td>Romance</td>\n",
       "      <td>School</td>\n",
       "      <td>Supernatural</td>\n",
       "      <td>None</td>\n",
       "      <td>None</td>\n",
       "      <td>None</td>\n",
       "      <td>None</td>\n",
       "      <td>None</td>\n",
       "      <td>None</td>\n",
       "      <td>None</td>\n",
       "      <td>None</td>\n",
       "      <td>None</td>\n",
       "    </tr>\n",
       "    <tr>\n",
       "      <th>1</th>\n",
       "      <td>Action</td>\n",
       "      <td>Adventure</td>\n",
       "      <td>Drama</td>\n",
       "      <td>Fantasy</td>\n",
       "      <td>Magic</td>\n",
       "      <td>Military</td>\n",
       "      <td>Shounen</td>\n",
       "      <td>None</td>\n",
       "      <td>None</td>\n",
       "      <td>None</td>\n",
       "      <td>None</td>\n",
       "      <td>None</td>\n",
       "      <td>None</td>\n",
       "    </tr>\n",
       "    <tr>\n",
       "      <th>2</th>\n",
       "      <td>Action</td>\n",
       "      <td>Comedy</td>\n",
       "      <td>Historical</td>\n",
       "      <td>Parody</td>\n",
       "      <td>Samurai</td>\n",
       "      <td>Sci-Fi</td>\n",
       "      <td>Shounen</td>\n",
       "      <td>None</td>\n",
       "      <td>None</td>\n",
       "      <td>None</td>\n",
       "      <td>None</td>\n",
       "      <td>None</td>\n",
       "      <td>None</td>\n",
       "    </tr>\n",
       "    <tr>\n",
       "      <th>3</th>\n",
       "      <td>Sci-Fi</td>\n",
       "      <td>Thriller</td>\n",
       "      <td>None</td>\n",
       "      <td>None</td>\n",
       "      <td>None</td>\n",
       "      <td>None</td>\n",
       "      <td>None</td>\n",
       "      <td>None</td>\n",
       "      <td>None</td>\n",
       "      <td>None</td>\n",
       "      <td>None</td>\n",
       "      <td>None</td>\n",
       "      <td>None</td>\n",
       "    </tr>\n",
       "    <tr>\n",
       "      <th>4</th>\n",
       "      <td>Action</td>\n",
       "      <td>Comedy</td>\n",
       "      <td>Historical</td>\n",
       "      <td>Parody</td>\n",
       "      <td>Samurai</td>\n",
       "      <td>Sci-Fi</td>\n",
       "      <td>Shounen</td>\n",
       "      <td>None</td>\n",
       "      <td>None</td>\n",
       "      <td>None</td>\n",
       "      <td>None</td>\n",
       "      <td>None</td>\n",
       "      <td>None</td>\n",
       "    </tr>\n",
       "  </tbody>\n",
       "</table>\n",
       "</div>"
      ],
      "text/plain": [
       "       0           1            2              3         4          5   \\\n",
       "0   Drama     Romance       School   Supernatural      None       None   \n",
       "1  Action   Adventure        Drama        Fantasy     Magic   Military   \n",
       "2  Action      Comedy   Historical         Parody   Samurai     Sci-Fi   \n",
       "3  Sci-Fi    Thriller         None           None      None       None   \n",
       "4  Action      Comedy   Historical         Parody   Samurai     Sci-Fi   \n",
       "\n",
       "         6     7     8     9     10    11    12  \n",
       "0      None  None  None  None  None  None  None  \n",
       "1   Shounen  None  None  None  None  None  None  \n",
       "2   Shounen  None  None  None  None  None  None  \n",
       "3      None  None  None  None  None  None  None  \n",
       "4   Shounen  None  None  None  None  None  None  "
      ]
     },
     "execution_count": 75,
     "metadata": {},
     "output_type": "execute_result"
    }
   ],
   "source": [
    "genres = anime['genre'].str.split(',', expand=True)\n",
    "genres.head()"
   ]
  },
  {
   "cell_type": "code",
   "execution_count": 76,
   "id": "0a952c8f",
   "metadata": {},
   "outputs": [
    {
     "data": {
      "text/html": [
       "<div>\n",
       "<style scoped>\n",
       "    .dataframe tbody tr th:only-of-type {\n",
       "        vertical-align: middle;\n",
       "    }\n",
       "\n",
       "    .dataframe tbody tr th {\n",
       "        vertical-align: top;\n",
       "    }\n",
       "\n",
       "    .dataframe thead th {\n",
       "        text-align: right;\n",
       "    }\n",
       "</style>\n",
       "<table border=\"1\" class=\"dataframe\">\n",
       "  <thead>\n",
       "    <tr style=\"text-align: right;\">\n",
       "      <th></th>\n",
       "      <th>genre1</th>\n",
       "      <th>genre2</th>\n",
       "      <th>genre3</th>\n",
       "      <th>genre4</th>\n",
       "    </tr>\n",
       "  </thead>\n",
       "  <tbody>\n",
       "    <tr>\n",
       "      <th>0</th>\n",
       "      <td>Drama</td>\n",
       "      <td>Romance</td>\n",
       "      <td>School</td>\n",
       "      <td>Supernatural</td>\n",
       "    </tr>\n",
       "    <tr>\n",
       "      <th>1</th>\n",
       "      <td>Action</td>\n",
       "      <td>Adventure</td>\n",
       "      <td>Drama</td>\n",
       "      <td>Fantasy</td>\n",
       "    </tr>\n",
       "    <tr>\n",
       "      <th>2</th>\n",
       "      <td>Action</td>\n",
       "      <td>Comedy</td>\n",
       "      <td>Historical</td>\n",
       "      <td>Parody</td>\n",
       "    </tr>\n",
       "    <tr>\n",
       "      <th>3</th>\n",
       "      <td>Sci-Fi</td>\n",
       "      <td>Thriller</td>\n",
       "      <td>None</td>\n",
       "      <td>None</td>\n",
       "    </tr>\n",
       "    <tr>\n",
       "      <th>4</th>\n",
       "      <td>Action</td>\n",
       "      <td>Comedy</td>\n",
       "      <td>Historical</td>\n",
       "      <td>Parody</td>\n",
       "    </tr>\n",
       "  </tbody>\n",
       "</table>\n",
       "</div>"
      ],
      "text/plain": [
       "   genre1      genre2       genre3         genre4\n",
       "0   Drama     Romance       School   Supernatural\n",
       "1  Action   Adventure        Drama        Fantasy\n",
       "2  Action      Comedy   Historical         Parody\n",
       "3  Sci-Fi    Thriller         None           None\n",
       "4  Action      Comedy   Historical         Parody"
      ]
     },
     "execution_count": 76,
     "metadata": {},
     "output_type": "execute_result"
    }
   ],
   "source": [
    "genres = genres.iloc[:,:4]\n",
    "genres.columns = ['genre1', 'genre2', 'genre3','genre4']\n",
    "genres.head()"
   ]
  },
  {
   "cell_type": "code",
   "execution_count": 77,
   "id": "5f197d9a",
   "metadata": {},
   "outputs": [],
   "source": [
    "updated_rating=anime.copy()"
   ]
  },
  {
   "cell_type": "code",
   "execution_count": 78,
   "id": "e525cd4a",
   "metadata": {},
   "outputs": [
    {
     "data": {
      "text/html": [
       "<div>\n",
       "<style scoped>\n",
       "    .dataframe tbody tr th:only-of-type {\n",
       "        vertical-align: middle;\n",
       "    }\n",
       "\n",
       "    .dataframe tbody tr th {\n",
       "        vertical-align: top;\n",
       "    }\n",
       "\n",
       "    .dataframe thead th {\n",
       "        text-align: right;\n",
       "    }\n",
       "</style>\n",
       "<table border=\"1\" class=\"dataframe\">\n",
       "  <thead>\n",
       "    <tr style=\"text-align: right;\">\n",
       "      <th></th>\n",
       "      <th>anime_id</th>\n",
       "      <th>name</th>\n",
       "      <th>type</th>\n",
       "      <th>episodes</th>\n",
       "      <th>rating</th>\n",
       "      <th>members</th>\n",
       "      <th>genre1</th>\n",
       "      <th>genre2</th>\n",
       "      <th>genre3</th>\n",
       "      <th>genre4</th>\n",
       "    </tr>\n",
       "  </thead>\n",
       "  <tbody>\n",
       "    <tr>\n",
       "      <th>0</th>\n",
       "      <td>32281</td>\n",
       "      <td>Kimi no Na wa</td>\n",
       "      <td>Movie</td>\n",
       "      <td>1</td>\n",
       "      <td>9.37</td>\n",
       "      <td>200630.0</td>\n",
       "      <td>Drama</td>\n",
       "      <td>Romance</td>\n",
       "      <td>School</td>\n",
       "      <td>Supernatural</td>\n",
       "    </tr>\n",
       "    <tr>\n",
       "      <th>1</th>\n",
       "      <td>5114</td>\n",
       "      <td>Fullmetal Alchemist Brotherhood</td>\n",
       "      <td>TV</td>\n",
       "      <td>64</td>\n",
       "      <td>9.26</td>\n",
       "      <td>793665.0</td>\n",
       "      <td>Action</td>\n",
       "      <td>Adventure</td>\n",
       "      <td>Drama</td>\n",
       "      <td>Fantasy</td>\n",
       "    </tr>\n",
       "    <tr>\n",
       "      <th>2</th>\n",
       "      <td>28977</td>\n",
       "      <td>Gintama</td>\n",
       "      <td>TV</td>\n",
       "      <td>51</td>\n",
       "      <td>9.25</td>\n",
       "      <td>114262.0</td>\n",
       "      <td>Action</td>\n",
       "      <td>Comedy</td>\n",
       "      <td>Historical</td>\n",
       "      <td>Parody</td>\n",
       "    </tr>\n",
       "    <tr>\n",
       "      <th>3</th>\n",
       "      <td>9253</td>\n",
       "      <td>Steins Gate</td>\n",
       "      <td>TV</td>\n",
       "      <td>24</td>\n",
       "      <td>9.17</td>\n",
       "      <td>673572.0</td>\n",
       "      <td>Sci-Fi</td>\n",
       "      <td>Thriller</td>\n",
       "      <td>None</td>\n",
       "      <td>None</td>\n",
       "    </tr>\n",
       "    <tr>\n",
       "      <th>4</th>\n",
       "      <td>9969</td>\n",
       "      <td>Gintama 039</td>\n",
       "      <td>TV</td>\n",
       "      <td>51</td>\n",
       "      <td>9.16</td>\n",
       "      <td>151266.0</td>\n",
       "      <td>Action</td>\n",
       "      <td>Comedy</td>\n",
       "      <td>Historical</td>\n",
       "      <td>Parody</td>\n",
       "    </tr>\n",
       "  </tbody>\n",
       "</table>\n",
       "</div>"
      ],
      "text/plain": [
       "  anime_id                             name   type episodes  rating   members  \\\n",
       "0    32281                   Kimi no Na wa   Movie        1    9.37  200630.0   \n",
       "1     5114  Fullmetal Alchemist Brotherhood     TV       64    9.26  793665.0   \n",
       "2    28977                         Gintama      TV       51    9.25  114262.0   \n",
       "3     9253                      Steins Gate     TV       24    9.17  673572.0   \n",
       "4     9969                     Gintama 039      TV       51    9.16  151266.0   \n",
       "\n",
       "   genre1      genre2       genre3         genre4  \n",
       "0   Drama     Romance       School   Supernatural  \n",
       "1  Action   Adventure        Drama        Fantasy  \n",
       "2  Action      Comedy   Historical         Parody  \n",
       "3  Sci-Fi    Thriller         None           None  \n",
       "4  Action      Comedy   Historical         Parody  "
      ]
     },
     "execution_count": 78,
     "metadata": {},
     "output_type": "execute_result"
    }
   ],
   "source": [
    "updated_rating = updated_rating.drop('genre', axis=1) \n",
    "updated_rating = pd.concat([updated_rating, genres], axis=1)\n",
    "updated_rating.head()"
   ]
  },
  {
   "cell_type": "code",
   "execution_count": 79,
   "id": "a3a5ab3d",
   "metadata": {},
   "outputs": [
    {
     "data": {
      "text/plain": [
       "array(['Movie', 'TV', 'OVA', 'Special', 'Music', 'ONA', '1'], dtype=object)"
      ]
     },
     "execution_count": 79,
     "metadata": {},
     "output_type": "execute_result"
    }
   ],
   "source": [
    "updated_rating['type'].unique()"
   ]
  },
  {
   "cell_type": "code",
   "execution_count": 80,
   "id": "a96a2467",
   "metadata": {},
   "outputs": [
    {
     "name": "stdout",
     "output_type": "stream",
     "text": [
      "Mean Absolute Error: 0.5348180948419301\n"
     ]
    }
   ],
   "source": [
    "X = anime[['anime_id', 'episodes', 'members']]\n",
    "y = anime['rating']\n",
    "\n",
    "X_train, X_test, y_train, y_test = train_test_split(X, y, test_size=0.2, random_state=0)\n",
    "\n",
    "model = RandomForestRegressor(random_state=0)\n",
    "model.fit(X_train, y_train)\n",
    "\n",
    "y_pred = model.predict(X_test)\n",
    "\n",
    "error = mean_absolute_error(y_test, y_pred)\n",
    "print(\"Mean Absolute Error:\", error)"
   ]
  },
  {
   "cell_type": "code",
   "execution_count": 88,
   "id": "0a396de4",
   "metadata": {},
   "outputs": [
    {
     "name": "stdout",
     "output_type": "stream",
     "text": [
      "Bot: Hello! I'm a bot that can help you with your dataset. Here's a brief introduction:\n",
      "Bot: This dataset contains information about various anime, including the anime ID, name, genre, number of episodes, and rating.\n",
      "You: show data\n",
      "Bot: Here's a sample of the data in the dataset:\n",
      "         user_id  anime_id  rating          name  \\\n",
      "4221495    71275         1     9.0  Cowboy Bebop   \n",
      "4213050    31866         1    10.0  Cowboy Bebop   \n",
      "4213049    31860         1    10.0  Cowboy Bebop   \n",
      "4213048    31858         1     9.0  Cowboy Bebop   \n",
      "4213047    31851         1     7.0  Cowboy Bebop   \n",
      "\n",
      "                                                   genre type  episodes  \\\n",
      "4221495  Action, Adventure, Comedy, Drama, Sci-Fi, Space   TV        26   \n",
      "4213050  Action, Adventure, Comedy, Drama, Sci-Fi, Space   TV        26   \n",
      "4213049  Action, Adventure, Comedy, Drama, Sci-Fi, Space   TV        26   \n",
      "4213048  Action, Adventure, Comedy, Drama, Sci-Fi, Space   TV        26   \n",
      "4213047  Action, Adventure, Comedy, Drama, Sci-Fi, Space   TV        26   \n",
      "\n",
      "         members  \n",
      "4221495   486824  \n",
      "4213050   486824  \n",
      "4213049   486824  \n",
      "4213048   486824  \n",
      "4213047   486824  \n",
      "You: summary\n",
      "Bot: Here's a summary of the data in the dataset:\n",
      "            user_id      anime_id        rating      episodes       members\n",
      "count  7.813720e+06  7.813720e+06  7.813720e+06  7.813720e+06  7.813720e+06\n",
      "mean   3.672795e+04  8.909041e+03  6.144035e+00  1.844123e+01  1.786204e+05\n",
      "std    2.099796e+04  8.883922e+03  3.727797e+00  3.508499e+01  1.881759e+05\n",
      "min    1.000000e+00  1.000000e+00 -1.000000e+00  0.000000e+00  2.900000e+01\n",
      "25%    1.897400e+04  1.240000e+03  6.000000e+00  2.000000e+00  4.403000e+04\n",
      "50%    3.679100e+04  6.213000e+03  7.000000e+00  1.200000e+01  1.104700e+05\n",
      "75%    5.475700e+04  1.409300e+04  9.000000e+00  2.400000e+01  2.442680e+05\n",
      "max    7.351600e+04  3.451900e+04  1.000000e+01  1.818000e+03  1.013917e+06\n",
      "You: suggest\n",
      "Enter the name of the anime: Naruto\n",
      "Steins Gate\n",
      "Mirai Nikki TV \n",
      "Code Geass Hangyaku no Lelouch\n",
      "Angel Beats \n",
      "Toradora \n",
      "Here are the top 5 recommended anime based on your preference:\n",
      "None\n",
      "You: Gintama\n",
      "Bot: Sorry, I didn't understand what you said.\n",
      "You: suggest\n",
      "Enter the name of the anime: Gintama\n",
      "Dungeon ni Deai wo Motomeru no wa Machigatteiru Darou ka\n",
      "Ookami to Koushinryou\n",
      "Kuroko no Basket\n",
      "D Gray man\n",
      "Mononoke Hime\n",
      "Here are the top 5 recommended anime based on your preference:\n",
      "None\n",
      "You: conclusion\n",
      "Bot: The anime recommendation dataset contains information about various anime series, including the anime ID, name, genre, number of episodes, and rating. This information can be used to make recommendations to viewers based on their preferences and viewing history. The dataset provides valuable insights into the popularity of different anime genres and can be used to track trends over time.\n",
      "You: quit\n",
      "Bot: Bye! Have a great day.\n"
     ]
    }
   ],
   "source": [
    "print(\"Bot: Hello! I'm a bot that can help you with your dataset. Here's a brief introduction:\")\n",
    "print(\"Bot: This dataset contains information about various anime, including the anime ID, name, genre, number of episodes, and rating.\")\n",
    "\n",
    "while True:\n",
    "    user_input = input(\"You: \")\n",
    "    if user_input.lower() == \"show data\":\n",
    "        print(\"Bot: Here's a sample of the data in the dataset:\")\n",
    "        print(df.head())\n",
    "    elif user_input.lower() == \"summary\":\n",
    "        print(\"Bot: Here's a summary of the data in the dataset:\")\n",
    "        print(df.describe())\n",
    "    elif user_input.lower() == \"suggest\":\n",
    "        name = input(\"Enter the name of the anime: \")\n",
    "        recommendations = similar_animes(name)\n",
    "        print(\"Here are the top 5 recommended anime based on your preference:\")\n",
    "        print(recommendations)\n",
    "       \n",
    "    elif user_input.lower() == \"conclusion\":\n",
    "        print(\"Bot: The anime recommendation dataset contains information about various anime series, including the anime ID, name, genre, number of episodes, and rating. This information can be used to make recommendations to viewers based on their preferences and viewing history. The dataset provides valuable insights into the popularity of different anime genres and can be used to track trends over time.\")\n",
    "    elif user_input.lower() == \"quit\":\n",
    "        print(\"Bot: Bye! Have a great day.\")\n",
    "        break\n",
    "    else:\n",
    "        print(\"Bot: Sorry, I didn't understand what you said.\")"
   ]
  },
  {
   "cell_type": "markdown",
   "id": "885c1c27",
   "metadata": {},
   "source": [
    "# Conclusion\n",
    "\n",
    "The anime recommendation dataset contains information about various anime series, including the anime ID, name, genre, number   of episodes, and rating. This information can be used to make recommendations to viewers based on their preferences and        viewing history. The dataset provides valuable insights into the popularity of different anime genres and can be used to track trends over time.\n",
    "\n",
    "The summary of the data in the dataset includes basic statistical information such as mean, minimum and maximum values. This information can be used to gain a better understanding of the distribution of values for each feature in the dataset.\n",
    "\n",
    "Overall, the anime recommendation dataset is a useful resource for anime fans, industry professionals, and data analysts. It provides a wealth of information about the anime industry and can be used to make informed decisions and predictions about the future of the industry."
   ]
  }
 ],
 "metadata": {
  "kernelspec": {
   "display_name": "Python 3 (ipykernel)",
   "language": "python",
   "name": "python3"
  },
  "language_info": {
   "codemirror_mode": {
    "name": "ipython",
    "version": 3
   },
   "file_extension": ".py",
   "mimetype": "text/x-python",
   "name": "python",
   "nbconvert_exporter": "python",
   "pygments_lexer": "ipython3",
   "version": "3.9.13"
  }
 },
 "nbformat": 4,
 "nbformat_minor": 5
}
